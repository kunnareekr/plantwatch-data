{
 "cells": [
  {
   "cell_type": "code",
   "execution_count": 1,
   "metadata": {},
   "outputs": [],
   "source": [
    "import pandas as pd\n",
    "import numpy as np"
   ]
  },
  {
   "cell_type": "code",
   "execution_count": 2,
   "metadata": {},
   "outputs": [],
   "source": [
    "pl0 = pd.read_csv(\"Kraftwerksliste_CSV.csv\", error_bad_lines=False, engine=\"python\", encoding=\"latin1\", sep=\";\", skiprows=9)\n",
    "bm = pd.read_csv(\"block_plant_mapper.csv\", error_bad_lines=False, engine=\"python\")"
   ]
  },
  {
   "cell_type": "code",
   "execution_count": 3,
   "metadata": {},
   "outputs": [],
   "source": [
    "pl0.rename(columns={ pl0.columns[10]: \"Energieträger_old\", pl0.columns[13]: \"Energieträger\"}, inplace=True)"
   ]
  },
  {
   "cell_type": "code",
   "execution_count": 4,
   "metadata": {},
   "outputs": [],
   "source": [
    "#bm"
   ]
  },
  {
   "cell_type": "code",
   "execution_count": 5,
   "metadata": {},
   "outputs": [],
   "source": [
    "#bm\n",
    "pl1 = pl0.loc[np.logical_or(pl0.Energieträger == \"Kernenergie\", np.logical_or(pl0.Energieträger == \"Erdgas\", np.logical_or(pl0.Energieträger == \"Steinkohle\", pl0.Energieträger == \"Braunkohle\"))), :]"
   ]
  },
  {
   "cell_type": "code",
   "execution_count": 6,
   "metadata": {},
   "outputs": [],
   "source": [
    "# pl1"
   ]
  },
  {
   "cell_type": "code",
   "execution_count": 7,
   "metadata": {},
   "outputs": [],
   "source": [
    "pl2 = pl1.rename(columns={ pl1.columns[0]: \"BlockID\", pl1.columns[3]: \"PLZ\", pl1.columns[4]: \"Ort\", pl1.columns[8]: \"Inbetriebnahme\", pl1.columns[9]: \"Status\", pl1.columns[15]: \"KWK\", pl1.columns[16]: \"Nettoleistung\"})\n",
    "#pl3 = pl2.rename(columns={ pl1.columns[1]: \"BlockID\" })"
   ]
  },
  {
   "cell_type": "code",
   "execution_count": 8,
   "metadata": {},
   "outputs": [],
   "source": [
    "pl2['Nettoleistung'] = pl2['Nettoleistung'].str.replace('.','')\n",
    "pl2['Nettoleistung'] = pl2['Nettoleistung'].str.replace(',','.')\n",
    "#pl2['Nettoleistung'] = pl2['Nettoleistung'].str.replace('\\n','')\n",
    "#pl2['Nettoleistung'] = pl2[pd.to_numeric(pl2[\"Nettoleistung\"])]\n",
    "#pl2['Nettoleistung'] = pl2['Nettoleistung'].str.replace(';','.')"
   ]
  },
  {
   "cell_type": "code",
   "execution_count": 9,
   "metadata": {},
   "outputs": [],
   "source": [
    "#pl2[] = pl2[pd.to_numeric(pl2[\"Nettoleistung\"])]\n",
    "pl2['Nettoleistung'] = pl2['Nettoleistung'].apply(pd.to_numeric)"
   ]
  },
  {
   "cell_type": "code",
   "execution_count": 10,
   "metadata": {},
   "outputs": [],
   "source": [
    "# pl2"
   ]
  },
  {
   "cell_type": "code",
   "execution_count": 11,
   "metadata": {},
   "outputs": [],
   "source": [
    "cols = [10, 11,12,14,17,18,19]\n",
    "pl3 = pl2.drop(pl2.columns[cols],axis=1)"
   ]
  },
  {
   "cell_type": "code",
   "execution_count": 12,
   "metadata": {},
   "outputs": [],
   "source": [
    "# pl3"
   ]
  },
  {
   "cell_type": "code",
   "execution_count": 13,
   "metadata": {},
   "outputs": [],
   "source": [
    "# Status: endgültig stillgelegt, vorläufig stillgelegt, in Betrieb, Sicherheitsbereitschaft, Sonderfall, \n",
    "# Stillegung: [Jahreszahl]\n",
    "# StA: ja/ nein"
   ]
  },
  {
   "cell_type": "code",
   "execution_count": 14,
   "metadata": {},
   "outputs": [],
   "source": [
    "newdf = pd.DataFrame()"
   ]
  },
  {
   "cell_type": "code",
   "execution_count": 15,
   "metadata": {},
   "outputs": [],
   "source": [
    "def generate_decom_tuple(state):\n",
    "    if state == \"In Betrieb\":\n",
    "        return(\"in Betrieb\", \"0\")\n",
    "    elif \"Endgültig Stillgelegt\" in state:\n",
    "        a = \"stillgelegt\"\n",
    "        b = str(int(state[22:26]))\n",
    "        return (a, b)\n",
    "    elif \"Vorläufig Stillgelegt\" in state:\n",
    "        a = \"vorläufig stillgelegt\"\n",
    "        return (a, \"0\")\n",
    "    else:\n",
    "        return(state, \"0\")"
   ]
  },
  {
   "cell_type": "code",
   "execution_count": 16,
   "metadata": {},
   "outputs": [],
   "source": [
    "def fix_company(company):\n",
    "    cmp = company\n",
    "    company_prefix, _ = company.split(\" \" , 1)\n",
    "    # company_dict = {}\n",
    "    company_dict = {\"RWE\": \"RWE AG\", \"Vattenfall\": \"Vattenfall GmbH\", \"Uniper\": \"Uniper SE\", \"EnBW\": \"EnBW AG\", \"Steag\": \"Steag GmbH\", \"Nordzucker\": \"Nordzucker AG\"}\n",
    "    try:\n",
    "        cmp = company_dict[company_prefix]\n",
    "    except KeyError:\n",
    "        return company\n",
    "    return cmp"
   ]
  },
  {
   "cell_type": "code",
   "execution_count": 17,
   "metadata": {},
   "outputs": [],
   "source": [
    "for index, row in pl3.iterrows():\n",
    "    #if row['Status'] == \"Endgültig Stillgelegt 2016 (mit StA)\":\n",
    "    # print(row)\n",
    "    if row['KWK'] == \"nein\":\n",
    "        row['KWK'] = \"Nein\" # workaround for BoA plants\n",
    "    status, stilllegung = generate_decom_tuple(row['Status'])\n",
    "    cmp = fix_company(row['Unternehmen'])\n",
    "    row['Unternehmen'] = cmp\n",
    "    row['Status'] = status\n",
    "    row['Stilllegung'] = stilllegung\n",
    "    newdf = newdf.append(row)\n",
    "    "
   ]
  },
  {
   "cell_type": "code",
   "execution_count": 18,
   "metadata": {},
   "outputs": [],
   "source": [
    "# newdf['Stilllegung'] = newdf['Stilllegung'].astype(int)\n",
    "#newdf['Stilllegung'] = newdf['Stilllegung'].apply(lambda x: int(x) if x == x else None)"
   ]
  },
  {
   "cell_type": "code",
   "execution_count": 19,
   "metadata": {},
   "outputs": [],
   "source": [
    "newdf['Stilllegung'] = newdf['Stilllegung'].replace(\"0\", np.nan)"
   ]
  },
  {
   "cell_type": "code",
   "execution_count": 20,
   "metadata": {},
   "outputs": [],
   "source": [
    "pl3 = newdf"
   ]
  },
  {
   "cell_type": "code",
   "execution_count": 21,
   "metadata": {},
   "outputs": [],
   "source": [
    "atest = newdf.groupby([\"Unternehmen\"]).count()\n",
    "atest.sort_values(\"Inbetriebnahme\", inplace=True, ascending=False)"
   ]
  },
  {
   "cell_type": "code",
   "execution_count": 22,
   "metadata": {},
   "outputs": [],
   "source": [
    "#print(atest)"
   ]
  },
  {
   "cell_type": "code",
   "execution_count": 23,
   "metadata": {},
   "outputs": [],
   "source": [
    "atest = pl3.groupby([\"Status\"]).count()\n",
    "# atest"
   ]
  },
  {
   "cell_type": "code",
   "execution_count": 24,
   "metadata": {
    "scrolled": false
   },
   "outputs": [],
   "source": [
    "# pl3.rename(columns={ pl3.columns[10]: \"Energieträger\"}, inplace=True)"
   ]
  },
  {
   "cell_type": "code",
   "execution_count": 25,
   "metadata": {},
   "outputs": [],
   "source": [
    "pl4 = bm.merge(pl3, how=\"outer\", on=\"BlockID\")"
   ]
  },
  {
   "cell_type": "code",
   "execution_count": 26,
   "metadata": {},
   "outputs": [],
   "source": [
    "pl5 = pl4[pd.notnull(pl4['BlockID'])]\n",
    "#pl5 = pl4\n",
    "pl6 = pl5[pd.notnull(pl5['Nettoleistung'])]"
   ]
  },
  {
   "cell_type": "code",
   "execution_count": 27,
   "metadata": {},
   "outputs": [],
   "source": [
    "# pl6"
   ]
  },
  {
   "cell_type": "code",
   "execution_count": 28,
   "metadata": {},
   "outputs": [
    {
     "name": "stderr",
     "output_type": "stream",
     "text": [
      "/usr/lib/python3.6/site-packages/ipykernel_launcher.py:1: SettingWithCopyWarning: \n",
      "A value is trying to be set on a copy of a slice from a DataFrame.\n",
      "Try using .loc[row_indexer,col_indexer] = value instead\n",
      "\n",
      "See the caveats in the documentation: http://pandas.pydata.org/pandas-docs/stable/indexing.html#indexing-view-versus-copy\n",
      "  \"\"\"Entry point for launching an IPython kernel.\n"
     ]
    }
   ],
   "source": [
    "pl6['KraftwerkID'] = pl6['KraftwerkID'].str.replace('/', '_')"
   ]
  },
  {
   "cell_type": "code",
   "execution_count": 29,
   "metadata": {},
   "outputs": [],
   "source": [
    "# pl7 = pl6.replace(\"/\", \"_\")"
   ]
  },
  {
   "cell_type": "code",
   "execution_count": 30,
   "metadata": {},
   "outputs": [],
   "source": [
    "#pl7 = pl6.apply(str.replace(\"/\", \"_\"))"
   ]
  },
  {
   "cell_type": "code",
   "execution_count": 31,
   "metadata": {},
   "outputs": [
    {
     "data": {
      "text/html": [
       "<div>\n",
       "<style scoped>\n",
       "    .dataframe tbody tr th:only-of-type {\n",
       "        vertical-align: middle;\n",
       "    }\n",
       "\n",
       "    .dataframe tbody tr th {\n",
       "        vertical-align: top;\n",
       "    }\n",
       "\n",
       "    .dataframe thead th {\n",
       "        text-align: right;\n",
       "    }\n",
       "</style>\n",
       "<table border=\"1\" class=\"dataframe\">\n",
       "  <thead>\n",
       "    <tr style=\"text-align: right;\">\n",
       "      <th></th>\n",
       "      <th>KraftwerkID</th>\n",
       "      <th>BlockID</th>\n",
       "      <th>Blockname</th>\n",
       "      <th>Bundesland</th>\n",
       "      <th>Energieträger</th>\n",
       "      <th>Inbetriebnahme</th>\n",
       "      <th>KWK</th>\n",
       "      <th>Kraftwerksname</th>\n",
       "      <th>Nettoleistung</th>\n",
       "      <th>Ort</th>\n",
       "      <th>PLZ</th>\n",
       "      <th>Status</th>\n",
       "      <th>Stilllegung</th>\n",
       "      <th>Straße und Hausnummer (Standort Kraftwerk)</th>\n",
       "      <th>Unternehmen</th>\n",
       "    </tr>\n",
       "  </thead>\n",
       "  <tbody>\n",
       "    <tr>\n",
       "      <th>394</th>\n",
       "      <td>06-04-11_2001178_8_2</td>\n",
       "      <td>BNA1820</td>\n",
       "      <td>GuD MiBÜ</td>\n",
       "      <td>Bremen</td>\n",
       "      <td>Erdgas</td>\n",
       "      <td>2016</td>\n",
       "      <td>Nein</td>\n",
       "      <td>KW Mittelsbüren</td>\n",
       "      <td>444.5</td>\n",
       "      <td>Bremen</td>\n",
       "      <td>28237</td>\n",
       "      <td>in Betrieb</td>\n",
       "      <td>NaN</td>\n",
       "      <td>NaN</td>\n",
       "      <td>Gemeinschaftskraftwerk Bremen GmbH und Co. KG</td>\n",
       "    </tr>\n",
       "  </tbody>\n",
       "</table>\n",
       "</div>"
      ],
      "text/plain": [
       "              KraftwerkID  BlockID Blockname Bundesland Energieträger  \\\n",
       "394  06-04-11_2001178_8_2  BNA1820  GuD MiBÜ     Bremen        Erdgas   \n",
       "\n",
       "    Inbetriebnahme   KWK   Kraftwerksname  Nettoleistung     Ort    PLZ  \\\n",
       "394           2016  Nein  KW Mittelsbüren          444.5  Bremen  28237   \n",
       "\n",
       "         Status Stilllegung Straße und Hausnummer (Standort Kraftwerk)  \\\n",
       "394  in Betrieb         NaN                                        NaN   \n",
       "\n",
       "                                       Unternehmen  \n",
       "394  Gemeinschaftskraftwerk Bremen GmbH und Co. KG  "
      ]
     },
     "execution_count": 31,
     "metadata": {},
     "output_type": "execute_result"
    }
   ],
   "source": [
    "pl6.loc[pl6.Kraftwerksname == \"KW Mittelsbüren\"]"
   ]
  },
  {
   "cell_type": "code",
   "execution_count": 32,
   "metadata": {},
   "outputs": [],
   "source": [
    "blocks = pl6.copy()\n",
    "stammdaten = pl6.copy()"
   ]
  },
  {
   "cell_type": "code",
   "execution_count": 33,
   "metadata": {},
   "outputs": [],
   "source": [
    "blocks.sort_values(\"Inbetriebnahme\", inplace=True, ascending=False)\n",
    "# blocks"
   ]
  },
  {
   "cell_type": "code",
   "execution_count": 34,
   "metadata": {},
   "outputs": [],
   "source": [
    "plants = blocks.loc[:]\n",
    "plants = plants.dropna(subset=[\"KraftwerkID\"])"
   ]
  },
  {
   "cell_type": "code",
   "execution_count": 35,
   "metadata": {},
   "outputs": [],
   "source": [
    "plants_d = plants.loc[plants.duplicated(\"KraftwerkID\", keep=False)]\n",
    "# plants_d"
   ]
  },
  {
   "cell_type": "code",
   "execution_count": 36,
   "metadata": {},
   "outputs": [],
   "source": [
    "plants_c = plants_d.groupby([\"KraftwerkID\"]).sum()\n",
    "plants_count = plants_d.groupby([\"KraftwerkID\"]).count()"
   ]
  },
  {
   "cell_type": "code",
   "execution_count": 37,
   "metadata": {},
   "outputs": [],
   "source": [
    "plants_f = plants_c.reset_index()"
   ]
  },
  {
   "cell_type": "code",
   "execution_count": 38,
   "metadata": {},
   "outputs": [],
   "source": [
    "plants_count = plants_count.loc[:, [\"BlockID\"]]"
   ]
  },
  {
   "cell_type": "code",
   "execution_count": 39,
   "metadata": {},
   "outputs": [],
   "source": [
    "plants_count = plants_count.reset_index()\n",
    "# plants_count "
   ]
  },
  {
   "cell_type": "code",
   "execution_count": 40,
   "metadata": {},
   "outputs": [],
   "source": [
    "plants_f = plants_f.merge(plants_count, on=\"KraftwerkID\", how=\"inner\")\n",
    "# plants_f"
   ]
  },
  {
   "cell_type": "code",
   "execution_count": 41,
   "metadata": {},
   "outputs": [],
   "source": [
    "plants_a = plants.drop_duplicates(subset=\"KraftwerkID\")"
   ]
  },
  {
   "cell_type": "code",
   "execution_count": 42,
   "metadata": {},
   "outputs": [],
   "source": [
    "plants_b = plants_d.loc[:]"
   ]
  },
  {
   "cell_type": "code",
   "execution_count": 43,
   "metadata": {},
   "outputs": [],
   "source": [
    "plants_f = plants_f.rename(columns={ \"Nettoleistung\": \"Gesamtleistung\", \"BlockID\": \"Blockzahl\"})"
   ]
  },
  {
   "cell_type": "code",
   "execution_count": 44,
   "metadata": {},
   "outputs": [],
   "source": [
    "plants_f = plants_f.merge(plants_a, on=\"KraftwerkID\", how=\"left\")\n",
    "# plants_f"
   ]
  },
  {
   "cell_type": "code",
   "execution_count": 45,
   "metadata": {},
   "outputs": [],
   "source": [
    "blocks.drop_duplicates(subset=\"BlockID\", inplace=True)"
   ]
  },
  {
   "cell_type": "code",
   "execution_count": 46,
   "metadata": {},
   "outputs": [],
   "source": [
    "#cols = [4,5,6,8]\n",
    "#blocks.drop(blocks.columns[cols],axis=1, inplace=True)\n",
    "#test_blocks = blocks.drop(blocks.columns[cols],axis=1)"
   ]
  },
  {
   "cell_type": "code",
   "execution_count": 47,
   "metadata": {},
   "outputs": [],
   "source": [
    "blocks.drop(['Ort', 'PLZ', 'Straße und Hausnummer (Standort Kraftwerk)', 'Blockname'], axis=1, inplace=True)"
   ]
  },
  {
   "cell_type": "code",
   "execution_count": 48,
   "metadata": {},
   "outputs": [],
   "source": [
    "plants_f.sort_values(\"Inbetriebnahme\", ascending=False, inplace=True)"
   ]
  },
  {
   "cell_type": "code",
   "execution_count": 49,
   "metadata": {},
   "outputs": [],
   "source": [
    "drop_list = ['Blockname', 'KWK', 'Nettoleistung', 'Stilllegung', 'Straße und Hausnummer (Standort Kraftwerk)', 'PLZ', 'Ort', 'Nettoleistung']\n",
    "plants_g = plants_f.drop(drop_list, axis=1)"
   ]
  },
  {
   "cell_type": "code",
   "execution_count": 50,
   "metadata": {},
   "outputs": [],
   "source": [
    "plants_h = plants_g.rename(columns={\"KraftwerkID\": \"plantid\", \"Gesamtleistung\": \"totalpower\", \"Blockzahl\": \"blockcount\", \"BlockID\": \"blockid\", \"Bundesland\": \"federalstate\", \"Energieträger\": \"energysource\", \"Inbetriebnahme\": \"latestexpanded\", \"Kraftwerksname\": \"plantname\", \"Status\": \"state\", \"Unternehmen\": \"company\"})"
   ]
  },
  {
   "cell_type": "code",
   "execution_count": null,
   "metadata": {},
   "outputs": [],
   "source": []
  },
  {
   "cell_type": "code",
   "execution_count": 51,
   "metadata": {},
   "outputs": [],
   "source": [
    "plants_h.loc[plants_h.plantid == '06-10-0020157', 'latestexpanded'] = 2012"
   ]
  },
  {
   "cell_type": "code",
   "execution_count": 52,
   "metadata": {},
   "outputs": [],
   "source": [
    "plants_h['latestexpanded'] = plants_h['latestexpanded'].astype(int)"
   ]
  },
  {
   "cell_type": "code",
   "execution_count": 53,
   "metadata": {},
   "outputs": [],
   "source": [
    "plants_i = plants_h[[\"plantid\", \"plantname\", \"federalstate\", \"energysource\", \"latestexpanded\", \"totalpower\", \"state\", \"blockcount\", \"blockid\", \"company\"]]"
   ]
  },
  {
   "cell_type": "code",
   "execution_count": 54,
   "metadata": {},
   "outputs": [
    {
     "data": {
      "text/plain": [
       "(90, 10)"
      ]
     },
     "execution_count": 54,
     "metadata": {},
     "output_type": "execute_result"
    }
   ],
   "source": [
    "plants_h.shape"
   ]
  },
  {
   "cell_type": "code",
   "execution_count": 55,
   "metadata": {},
   "outputs": [
    {
     "data": {
      "text/plain": [
       "(90, 10)"
      ]
     },
     "execution_count": 55,
     "metadata": {},
     "output_type": "execute_result"
    }
   ],
   "source": [
    "plants_i.shape"
   ]
  },
  {
   "cell_type": "code",
   "execution_count": 56,
   "metadata": {},
   "outputs": [
    {
     "data": {
      "text/plain": [
       "plantid            object\n",
       "totalpower        float64\n",
       "blockcount          int64\n",
       "blockid            object\n",
       "federalstate       object\n",
       "energysource       object\n",
       "latestexpanded      int64\n",
       "plantname          object\n",
       "state              object\n",
       "company            object\n",
       "dtype: object"
      ]
     },
     "execution_count": 56,
     "metadata": {},
     "output_type": "execute_result"
    }
   ],
   "source": [
    "plants_h.dtypes"
   ]
  },
  {
   "cell_type": "code",
   "execution_count": 57,
   "metadata": {},
   "outputs": [],
   "source": [
    "# plants_i"
   ]
  },
  {
   "cell_type": "code",
   "execution_count": 58,
   "metadata": {},
   "outputs": [],
   "source": [
    "# test_blocks"
   ]
  },
  {
   "cell_type": "code",
   "execution_count": 59,
   "metadata": {
    "scrolled": true
   },
   "outputs": [],
   "source": [
    "#blocks.loc[blocks.Energieträger == 'Erdgas',]"
   ]
  },
  {
   "cell_type": "code",
   "execution_count": null,
   "metadata": {},
   "outputs": [],
   "source": []
  },
  {
   "cell_type": "code",
   "execution_count": 60,
   "metadata": {},
   "outputs": [],
   "source": [
    "plants_final = plants_i.loc[:]"
   ]
  },
  {
   "cell_type": "code",
   "execution_count": 61,
   "metadata": {},
   "outputs": [],
   "source": [
    "# plants_final"
   ]
  },
  {
   "cell_type": "code",
   "execution_count": 62,
   "metadata": {},
   "outputs": [],
   "source": [
    "# stammdaten"
   ]
  },
  {
   "cell_type": "code",
   "execution_count": 63,
   "metadata": {},
   "outputs": [],
   "source": [
    "# cols = [0,2,3,9,10,11,12]\n",
    "drop_list = ['KraftwerkID', 'Blockname', 'Energieträger', 'Inbetriebnahme', 'KWK', 'Kraftwerksname', 'Nettoleistung', 'Status', 'Stilllegung', 'Unternehmen']\n",
    "stammdaten.drop(drop_list, axis=1, inplace=True)"
   ]
  },
  {
   "cell_type": "code",
   "execution_count": 64,
   "metadata": {},
   "outputs": [],
   "source": [
    "stammdaten.to_csv(\"stammdaten.csv\", index=False)"
   ]
  },
  {
   "cell_type": "code",
   "execution_count": 65,
   "metadata": {},
   "outputs": [],
   "source": [
    "plants_final.to_csv(\"plants.csv\", index=False)"
   ]
  },
  {
   "cell_type": "code",
   "execution_count": 66,
   "metadata": {},
   "outputs": [],
   "source": [
    "blocks.to_csv(\"blocks_3.csv\", index=False)"
   ]
  },
  {
   "cell_type": "code",
   "execution_count": 67,
   "metadata": {},
   "outputs": [],
   "source": [
    "stammdaten.to_csv(\"stammdaten_nh.csv\", index=False, header=False)\n",
    "blocks.to_csv(\"blocks_nh.csv\", index=False, header=False)\n",
    "plants_final.to_csv(\"plants_nh.csv\", index=False, header=False)"
   ]
  },
  {
   "cell_type": "code",
   "execution_count": null,
   "metadata": {},
   "outputs": [],
   "source": []
  }
 ],
 "metadata": {
  "kernelspec": {
   "display_name": "Python 3",
   "language": "python",
   "name": "python3"
  },
  "language_info": {
   "codemirror_mode": {
    "name": "ipython",
    "version": 3
   },
   "file_extension": ".py",
   "mimetype": "text/x-python",
   "name": "python",
   "nbconvert_exporter": "python",
   "pygments_lexer": "ipython3",
   "version": "3.6.4"
  }
 },
 "nbformat": 4,
 "nbformat_minor": 2
}
