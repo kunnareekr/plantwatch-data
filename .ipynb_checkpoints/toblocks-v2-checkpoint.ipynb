{
 "cells": [
  {
   "cell_type": "code",
   "execution_count": 83,
   "metadata": {},
   "outputs": [],
   "source": [
    "import pandas as pd\n",
    "from scipy import stats\n",
    "import numpy as np\n",
    "from pandas.api.types import CategoricalDtype"
   ]
  },
  {
   "cell_type": "code",
   "execution_count": 84,
   "metadata": {},
   "outputs": [],
   "source": [
    "pl0 = pd.read_csv(\"Kraftwerksliste_CSV.csv\", error_bad_lines=False, engine=\"python\", encoding=\"latin1\", sep=\";\", skiprows=9)\n",
    "bm = pd.read_csv(\"block_plant_mapper.csv\", error_bad_lines=False, engine=\"python\")"
   ]
  },
  {
   "cell_type": "code",
   "execution_count": 85,
   "metadata": {},
   "outputs": [],
   "source": [
    "pl0.rename(columns={ pl0.columns[10]: \"Energieträger_old\", pl0.columns[13]: \"Energieträger\"}, inplace=True)"
   ]
  },
  {
   "cell_type": "code",
   "execution_count": 86,
   "metadata": {},
   "outputs": [],
   "source": [
    "#bm"
   ]
  },
  {
   "cell_type": "code",
   "execution_count": 87,
   "metadata": {},
   "outputs": [],
   "source": [
    "#bm\n",
    "pl1 = pl0.loc[np.logical_or(pl0.Energieträger == \"Kernenergie\", np.logical_or(pl0.Energieträger == \"Erdgas\", np.logical_or(pl0.Energieträger == \"Steinkohle\", pl0.Energieträger == \"Braunkohle\"))), :]"
   ]
  },
  {
   "cell_type": "code",
   "execution_count": 88,
   "metadata": {},
   "outputs": [],
   "source": [
    "plt = pl1.dropna(subset=[\"Kraftwerksnummer Bundesnetzagentur\"])"
   ]
  },
  {
   "cell_type": "code",
   "execution_count": 89,
   "metadata": {},
   "outputs": [
    {
     "name": "stderr",
     "output_type": "stream",
     "text": [
      "/usr/lib/python3.6/site-packages/ipykernel_launcher.py:1: SettingWithCopyWarning: \n",
      "A value is trying to be set on a copy of a slice from a DataFrame.\n",
      "Try using .loc[row_indexer,col_indexer] = value instead\n",
      "\n",
      "See the caveats in the documentation: http://pandas.pydata.org/pandas-docs/stable/indexing.html#indexing-view-versus-copy\n",
      "  \"\"\"Entry point for launching an IPython kernel.\n",
      "/usr/lib/python3.6/site-packages/ipykernel_launcher.py:2: SettingWithCopyWarning: \n",
      "A value is trying to be set on a copy of a slice from a DataFrame.\n",
      "Try using .loc[row_indexer,col_indexer] = value instead\n",
      "\n",
      "See the caveats in the documentation: http://pandas.pydata.org/pandas-docs/stable/indexing.html#indexing-view-versus-copy\n",
      "  \n"
     ]
    }
   ],
   "source": [
    "plt[\"Energieträger\"] = plt[\"Energieträger\"].astype('category')\n",
    "plt[\"Energieträger\"] = plt[\"Energieträger\"].cat.set_categories([\"Kernenergie\", \"Braunkohle\", \"Steinkohle\", \"Erdgas\"], ordered=True)"
   ]
  },
  {
   "cell_type": "code",
   "execution_count": null,
   "metadata": {},
   "outputs": [],
   "source": []
  },
  {
   "cell_type": "code",
   "execution_count": 90,
   "metadata": {},
   "outputs": [],
   "source": [
    "# plt.dtypes"
   ]
  },
  {
   "cell_type": "code",
   "execution_count": 91,
   "metadata": {},
   "outputs": [],
   "source": [
    "pl2 = plt.rename(columns={ pl1.columns[0]: \"BlockID\", pl1.columns[3]: \"PLZ\", pl1.columns[4]: \"Ort\", pl1.columns[8]: \"Inbetriebnahme\", pl1.columns[9]: \"Status\", pl1.columns[15]: \"KWK\", pl1.columns[16]: \"Nettoleistung\"})\n",
    "#pl3 = pl2.rename(columns={ pl1.columns[1]: \"BlockID\" })"
   ]
  },
  {
   "cell_type": "code",
   "execution_count": 92,
   "metadata": {},
   "outputs": [],
   "source": [
    "pl2['Nettoleistung'] = pl2['Nettoleistung'].str.replace('.','')\n",
    "pl2['Nettoleistung'] = pl2['Nettoleistung'].str.replace(',','.')\n",
    "pl2.loc[pl2.BlockID == 'BNA0861a', 'Inbetriebnahme'] = 2012\n",
    "pl2.loc[pl2.BlockID == 'BNA1334', 'Inbetriebnahme'] = 2002\n",
    "pl2.loc[pl2.BlockID == 'BNA1141', 'Inbetriebnahme'] = 1970\n",
    "pl2.loc[pl2.BlockID == 'BNA0418', 'Inbetriebnahme'] = 2013\n",
    "pl2.loc[pl2.BlockID == 'BNA1499', 'Inbetriebnahme'] = 1951\n",
    "pl2.loc[pl2.BlockID == 'BNA1502', 'Inbetriebnahme'] = 2013\n",
    "pl2.loc[pl2.BlockID == 'BNA1500', 'Inbetriebnahme'] = 1990\n",
    "pl2.loc[pl2.BlockID == 'BNA1498', 'Inbetriebnahme'] = 1953\n",
    "pl2.loc[pl2.BlockID == 'BNA1260', 'Inbetriebnahme'] = 2013\n",
    "pl2.loc[pl2.BlockID == 'BNA1056', 'Inbetriebnahme'] = 2006\n",
    "\n",
    "\n",
    "#pl2['Nettoleistung'] = pl2['Nettoleistung'].str.replace('\\n','')\n",
    "#pl2['Nettoleistung'] = pl2[pd.to_numeric(pl2[\"Nettoleistung\"])]\n",
    "#pl2['Nettoleistung'] = pl2['Nettoleistung'].str.replace(';','.')"
   ]
  },
  {
   "cell_type": "code",
   "execution_count": 93,
   "metadata": {},
   "outputs": [],
   "source": [
    "#pl2[] = pl2[pd.to_numeric(pl2[\"Nettoleistung\"])]\n",
    "pl2['Inbetriebnahme'] = pl2['Inbetriebnahme'].apply(pd.to_numeric)\n",
    "pl2['Nettoleistung'] = pl2['Nettoleistung'].apply(pd.to_numeric)"
   ]
  },
  {
   "cell_type": "code",
   "execution_count": 94,
   "metadata": {},
   "outputs": [],
   "source": [
    "#bm[pl2.duplicated(['BlockID'], keep=False)].sort_values(\"BlockID\", ascending=False)"
   ]
  },
  {
   "cell_type": "code",
   "execution_count": 95,
   "metadata": {},
   "outputs": [
    {
     "data": {
      "text/html": [
       "<div>\n",
       "<style scoped>\n",
       "    .dataframe tbody tr th:only-of-type {\n",
       "        vertical-align: middle;\n",
       "    }\n",
       "\n",
       "    .dataframe tbody tr th {\n",
       "        vertical-align: top;\n",
       "    }\n",
       "\n",
       "    .dataframe thead th {\n",
       "        text-align: right;\n",
       "    }\n",
       "</style>\n",
       "<table border=\"1\" class=\"dataframe\">\n",
       "  <thead>\n",
       "    <tr style=\"text-align: right;\">\n",
       "      <th></th>\n",
       "      <th>BlockID</th>\n",
       "      <th>Unternehmen</th>\n",
       "      <th>Kraftwerksname</th>\n",
       "      <th>PLZ</th>\n",
       "      <th>Ort</th>\n",
       "      <th>Straße und Hausnummer (Standort Kraftwerk)</th>\n",
       "      <th>Bundesland</th>\n",
       "      <th>Blockname</th>\n",
       "      <th>Inbetriebnahme</th>\n",
       "      <th>Status</th>\n",
       "      <th>Energieträger_old</th>\n",
       "      <th>Spezifizierung \"Mehrere Energieträger\" und \"Sonstige Energieträger\" - Hauptbrennstoff</th>\n",
       "      <th>Spezifizierung \"Mehrere Energieträger\" - Zusatz- / Ersatzbrennstoffe</th>\n",
       "      <th>Energieträger</th>\n",
       "      <th>Vergütungsfähig nach EEG\n",
       "(ja/nein)</th>\n",
       "      <th>KWK</th>\n",
       "      <th>Nettoleistung</th>\n",
       "      <th>Bezeichnung Verknüpfungspunkt (Schaltanlage) mit dem Stromnetz der Allgemeinen Versorgung gemäß Netzbetreiber</th>\n",
       "      <th>Netz- oder Umspannebene des Anschlusses in kV</th>\n",
       "      <th>Name Stromnetzbetreiber</th>\n",
       "    </tr>\n",
       "  </thead>\n",
       "  <tbody>\n",
       "  </tbody>\n",
       "</table>\n",
       "</div>"
      ],
      "text/plain": [
       "Empty DataFrame\n",
       "Columns: [BlockID, Unternehmen, Kraftwerksname, PLZ, Ort, Straße und Hausnummer (Standort Kraftwerk), Bundesland, Blockname, Inbetriebnahme, Status, Energieträger_old, Spezifizierung \"Mehrere Energieträger\" und \"Sonstige Energieträger\" - Hauptbrennstoff, Spezifizierung \"Mehrere Energieträger\" - Zusatz- / Ersatzbrennstoffe, Energieträger, Vergütungsfähig nach EEG\n",
       "(ja/nein), KWK, Nettoleistung, Bezeichnung Verknüpfungspunkt (Schaltanlage) mit dem Stromnetz der Allgemeinen Versorgung gemäß Netzbetreiber, Netz- oder Umspannebene des Anschlusses in kV, Name Stromnetzbetreiber]\n",
       "Index: []"
      ]
     },
     "execution_count": 95,
     "metadata": {},
     "output_type": "execute_result"
    }
   ],
   "source": [
    "pl2[pl2.duplicated(['BlockID'], keep=False)].sort_values(\"BlockID\", ascending=False)"
   ]
  },
  {
   "cell_type": "code",
   "execution_count": 96,
   "metadata": {},
   "outputs": [],
   "source": [
    "cols = [10, 11,12,14,17,18,19]\n",
    "pl3 = pl2.drop(pl2.columns[cols],axis=1)"
   ]
  },
  {
   "cell_type": "code",
   "execution_count": 97,
   "metadata": {},
   "outputs": [],
   "source": [
    "#"
   ]
  },
  {
   "cell_type": "code",
   "execution_count": 98,
   "metadata": {},
   "outputs": [],
   "source": [
    "# Status: endgültig stillgelegt, vorläufig stillgelegt, in Betrieb, Sicherheitsbereitschaft, Sonderfall, \n",
    "# Stillegung: [Jahreszahl]\n",
    "# StA: ja/ nein"
   ]
  },
  {
   "cell_type": "code",
   "execution_count": 99,
   "metadata": {},
   "outputs": [],
   "source": [
    "newdf = pd.DataFrame()"
   ]
  },
  {
   "cell_type": "code",
   "execution_count": 100,
   "metadata": {},
   "outputs": [],
   "source": [
    "def generate_decom_tuple(state):\n",
    "    if state == \"In Betrieb\":\n",
    "        return(\"in Betrieb\", \"0\")\n",
    "    elif \"Endgültig Stillgelegt\" in state:\n",
    "        a = \"stillgelegt\"\n",
    "        b = str(int(state[22:26]))\n",
    "        return (a, b)\n",
    "    elif \"Vorläufig Stillgelegt\" in state:\n",
    "        a = \"vorläufig stillgelegt\"\n",
    "        return (a, \"0\")\n",
    "    else:\n",
    "        return(state, \"0\")"
   ]
  },
  {
   "cell_type": "code",
   "execution_count": 101,
   "metadata": {},
   "outputs": [],
   "source": [
    "def fix_company(company):\n",
    "    cmp = company\n",
    "    company_prefix, _ = company.split(\" \" , 1)\n",
    "    # company_dict = {}\n",
    "    company_dict = {\"RWE\": \"RWE AG\", \"Vattenfall\": \"Vattenfall GmbH\", \"Uniper\": \"Uniper SE\", \"EnBW\": \"EnBW AG\", \"Steag\": \"Steag GmbH\", \"Nordzucker\": \"Nordzucker AG\"}\n",
    "    try:\n",
    "        cmp = company_dict[company_prefix]\n",
    "    except KeyError:\n",
    "        return company\n",
    "    return cmp"
   ]
  },
  {
   "cell_type": "code",
   "execution_count": 102,
   "metadata": {},
   "outputs": [],
   "source": [
    "for index, row in pl3.iterrows():\n",
    "    #if row['Status'] == \"Endgültig Stillgelegt 2016 (mit StA)\":\n",
    "    # print(row)\n",
    "    if row['KWK'] == \"nein\":\n",
    "        row['KWK'] = \"Nein\" # workaround for BoA plants\n",
    "    if row['KWK'] == \"ja\":\n",
    "        row['KWK'] = \"Ja\"\n",
    "    status, stilllegung = generate_decom_tuple(row['Status'])\n",
    "    cmp = fix_company(row['Unternehmen'])\n",
    "    row['Unternehmen'] = cmp\n",
    "    row['Status'] = status\n",
    "    row['Stilllegung'] = stilllegung\n",
    "    newdf = newdf.append(row)\n",
    "    "
   ]
  },
  {
   "cell_type": "code",
   "execution_count": 103,
   "metadata": {},
   "outputs": [],
   "source": [
    "# newdf['Stilllegung'] = newdf['Stilllegung'].astype(int)\n",
    "#newdf['Stilllegung'] = newdf['Stilllegung'].apply(lambda x: int(x) if x == x else None)"
   ]
  },
  {
   "cell_type": "code",
   "execution_count": 104,
   "metadata": {},
   "outputs": [],
   "source": [
    "newdf['Stilllegung'] = newdf['Stilllegung'].replace(\"0\", np.nan)"
   ]
  },
  {
   "cell_type": "code",
   "execution_count": 105,
   "metadata": {},
   "outputs": [
    {
     "data": {
      "text/plain": [
       "BlockID                                        object\n",
       "Blockname                                      object\n",
       "Bundesland                                     object\n",
       "Energieträger                                  object\n",
       "Inbetriebnahme                                float64\n",
       "KWK                                            object\n",
       "Kraftwerksname                                 object\n",
       "Nettoleistung                                 float64\n",
       "Ort                                            object\n",
       "PLZ                                            object\n",
       "Status                                         object\n",
       "Stilllegung                                    object\n",
       "Straße und Hausnummer (Standort Kraftwerk)     object\n",
       "Unternehmen                                    object\n",
       "dtype: object"
      ]
     },
     "execution_count": 105,
     "metadata": {},
     "output_type": "execute_result"
    }
   ],
   "source": [
    "newdf.dtypes"
   ]
  },
  {
   "cell_type": "code",
   "execution_count": 106,
   "metadata": {},
   "outputs": [],
   "source": [
    "newdf[\"Status\"] = newdf[\"Status\"].astype('category')\n",
    "newdf[\"Status\"] = newdf[\"Status\"].cat.set_categories(['in Betrieb', 'Gesetzlich an Stilllegung gehindert', 'Netzreserve',  'Sicherheitsbereitschaft', 'Sonderfall', 'vorläufig stillgelegt', 'stillgelegt'], ordered=True)"
   ]
  },
  {
   "cell_type": "code",
   "execution_count": 107,
   "metadata": {},
   "outputs": [],
   "source": [
    "newdf[\"KWK\"] = newdf[\"KWK\"].astype('category')\n",
    "newdf[\"KWK\"] = newdf[\"KWK\"].cat.set_categories(['Ja', 'Nein'], ordered=True)"
   ]
  },
  {
   "cell_type": "code",
   "execution_count": 108,
   "metadata": {},
   "outputs": [],
   "source": [
    "atest = newdf.groupby(\"KWK\")"
   ]
  },
  {
   "cell_type": "code",
   "execution_count": null,
   "metadata": {},
   "outputs": [],
   "source": []
  },
  {
   "cell_type": "code",
   "execution_count": 109,
   "metadata": {},
   "outputs": [
    {
     "data": {
      "text/html": [
       "<div>\n",
       "<style scoped>\n",
       "    .dataframe tbody tr th:only-of-type {\n",
       "        vertical-align: middle;\n",
       "    }\n",
       "\n",
       "    .dataframe tbody tr th {\n",
       "        vertical-align: top;\n",
       "    }\n",
       "\n",
       "    .dataframe thead th {\n",
       "        text-align: right;\n",
       "    }\n",
       "</style>\n",
       "<table border=\"1\" class=\"dataframe\">\n",
       "  <thead>\n",
       "    <tr style=\"text-align: right;\">\n",
       "      <th></th>\n",
       "      <th>BlockID</th>\n",
       "      <th>Blockname</th>\n",
       "      <th>Bundesland</th>\n",
       "      <th>Energieträger</th>\n",
       "      <th>Inbetriebnahme</th>\n",
       "      <th>Kraftwerksname</th>\n",
       "      <th>Nettoleistung</th>\n",
       "      <th>Ort</th>\n",
       "      <th>PLZ</th>\n",
       "      <th>Status</th>\n",
       "      <th>Stilllegung</th>\n",
       "      <th>Straße und Hausnummer (Standort Kraftwerk)</th>\n",
       "      <th>Unternehmen</th>\n",
       "    </tr>\n",
       "    <tr>\n",
       "      <th>KWK</th>\n",
       "      <th></th>\n",
       "      <th></th>\n",
       "      <th></th>\n",
       "      <th></th>\n",
       "      <th></th>\n",
       "      <th></th>\n",
       "      <th></th>\n",
       "      <th></th>\n",
       "      <th></th>\n",
       "      <th></th>\n",
       "      <th></th>\n",
       "      <th></th>\n",
       "      <th></th>\n",
       "    </tr>\n",
       "  </thead>\n",
       "  <tbody>\n",
       "    <tr>\n",
       "      <th>Ja</th>\n",
       "      <td>380</td>\n",
       "      <td>272</td>\n",
       "      <td>380</td>\n",
       "      <td>380</td>\n",
       "      <td>379</td>\n",
       "      <td>369</td>\n",
       "      <td>377</td>\n",
       "      <td>380</td>\n",
       "      <td>380</td>\n",
       "      <td>380</td>\n",
       "      <td>31</td>\n",
       "      <td>231</td>\n",
       "      <td>380</td>\n",
       "    </tr>\n",
       "    <tr>\n",
       "      <th>Nein</th>\n",
       "      <td>127</td>\n",
       "      <td>117</td>\n",
       "      <td>127</td>\n",
       "      <td>127</td>\n",
       "      <td>127</td>\n",
       "      <td>127</td>\n",
       "      <td>127</td>\n",
       "      <td>127</td>\n",
       "      <td>127</td>\n",
       "      <td>127</td>\n",
       "      <td>38</td>\n",
       "      <td>37</td>\n",
       "      <td>127</td>\n",
       "    </tr>\n",
       "  </tbody>\n",
       "</table>\n",
       "</div>"
      ],
      "text/plain": [
       "      BlockID  Blockname  Bundesland  Energieträger  Inbetriebnahme  \\\n",
       "KWK                                                                   \n",
       "Ja        380        272         380            380             379   \n",
       "Nein      127        117         127            127             127   \n",
       "\n",
       "      Kraftwerksname  Nettoleistung  Ort  PLZ  Status  Stilllegung  \\\n",
       "KWK                                                                  \n",
       "Ja               369            377  380  380     380           31   \n",
       "Nein             127            127  127  127     127           38   \n",
       "\n",
       "      Straße und Hausnummer (Standort Kraftwerk)  Unternehmen  \n",
       "KWK                                                            \n",
       "Ja                                           231          380  \n",
       "Nein                                          37          127  "
      ]
     },
     "execution_count": 109,
     "metadata": {},
     "output_type": "execute_result"
    }
   ],
   "source": [
    "atest.count()"
   ]
  },
  {
   "cell_type": "code",
   "execution_count": 110,
   "metadata": {},
   "outputs": [],
   "source": [
    "pl3 = newdf"
   ]
  },
  {
   "cell_type": "code",
   "execution_count": 111,
   "metadata": {},
   "outputs": [],
   "source": [
    "atest = newdf.groupby([\"Unternehmen\"]).count()\n",
    "atest.sort_values(\"Inbetriebnahme\", inplace=True, ascending=False)"
   ]
  },
  {
   "cell_type": "code",
   "execution_count": 112,
   "metadata": {},
   "outputs": [],
   "source": [
    "#print(atest)"
   ]
  },
  {
   "cell_type": "code",
   "execution_count": 113,
   "metadata": {},
   "outputs": [],
   "source": [
    "atest = pl3.groupby([\"Status\"]).count()\n",
    "# atest"
   ]
  },
  {
   "cell_type": "code",
   "execution_count": 114,
   "metadata": {
    "scrolled": false
   },
   "outputs": [],
   "source": [
    "# pl3.rename(columns={ pl3.columns[10]: \"Energieträger\"}, inplace=True)"
   ]
  },
  {
   "cell_type": "code",
   "execution_count": 115,
   "metadata": {},
   "outputs": [
    {
     "data": {
      "text/html": [
       "<div>\n",
       "<style scoped>\n",
       "    .dataframe tbody tr th:only-of-type {\n",
       "        vertical-align: middle;\n",
       "    }\n",
       "\n",
       "    .dataframe tbody tr th {\n",
       "        vertical-align: top;\n",
       "    }\n",
       "\n",
       "    .dataframe thead th {\n",
       "        text-align: right;\n",
       "    }\n",
       "</style>\n",
       "<table border=\"1\" class=\"dataframe\">\n",
       "  <thead>\n",
       "    <tr style=\"text-align: right;\">\n",
       "      <th></th>\n",
       "      <th>KraftwerkID</th>\n",
       "      <th>BlockID</th>\n",
       "    </tr>\n",
       "  </thead>\n",
       "  <tbody>\n",
       "  </tbody>\n",
       "</table>\n",
       "</div>"
      ],
      "text/plain": [
       "Empty DataFrame\n",
       "Columns: [KraftwerkID, BlockID]\n",
       "Index: []"
      ]
     },
     "execution_count": 115,
     "metadata": {},
     "output_type": "execute_result"
    }
   ],
   "source": [
    "bm[bm.duplicated(['BlockID'], keep=False)].sort_values(\"BlockID\", ascending=False)"
   ]
  },
  {
   "cell_type": "code",
   "execution_count": 116,
   "metadata": {},
   "outputs": [],
   "source": [
    "#bm2 = bm.drop_duplicates()"
   ]
  },
  {
   "cell_type": "code",
   "execution_count": 117,
   "metadata": {},
   "outputs": [],
   "source": [
    "pl4 = bm.merge(pl3, how=\"outer\", on=\"BlockID\")"
   ]
  },
  {
   "cell_type": "code",
   "execution_count": 118,
   "metadata": {},
   "outputs": [],
   "source": [
    "#pl4[pl4.duplicated(['BlockID'], keep=False)].sort_values(\"BlockID\", ascending=False)"
   ]
  },
  {
   "cell_type": "code",
   "execution_count": 119,
   "metadata": {},
   "outputs": [],
   "source": [
    "pl5 = pl4[pd.notnull(pl4['BlockID'])]\n",
    "#pl5 = pl4\n",
    "pl6 = pl5[pd.notnull(pl5['Nettoleistung'])]"
   ]
  },
  {
   "cell_type": "code",
   "execution_count": 120,
   "metadata": {},
   "outputs": [],
   "source": [
    "# pl6"
   ]
  },
  {
   "cell_type": "code",
   "execution_count": 121,
   "metadata": {},
   "outputs": [
    {
     "name": "stderr",
     "output_type": "stream",
     "text": [
      "/usr/lib/python3.6/site-packages/ipykernel_launcher.py:1: SettingWithCopyWarning: \n",
      "A value is trying to be set on a copy of a slice from a DataFrame.\n",
      "Try using .loc[row_indexer,col_indexer] = value instead\n",
      "\n",
      "See the caveats in the documentation: http://pandas.pydata.org/pandas-docs/stable/indexing.html#indexing-view-versus-copy\n",
      "  \"\"\"Entry point for launching an IPython kernel.\n"
     ]
    }
   ],
   "source": [
    "pl6['KraftwerkID'] = pl6['KraftwerkID'].str.replace('/', '_')"
   ]
  },
  {
   "cell_type": "code",
   "execution_count": 122,
   "metadata": {},
   "outputs": [],
   "source": [
    "# pl7 = pl6.replace(\"/\", \"_\")"
   ]
  },
  {
   "cell_type": "code",
   "execution_count": 123,
   "metadata": {},
   "outputs": [],
   "source": [
    "#pl7 = pl6.apply(str.replace(\"/\", \"_\"))"
   ]
  },
  {
   "cell_type": "code",
   "execution_count": 124,
   "metadata": {},
   "outputs": [
    {
     "data": {
      "text/html": [
       "<div>\n",
       "<style scoped>\n",
       "    .dataframe tbody tr th:only-of-type {\n",
       "        vertical-align: middle;\n",
       "    }\n",
       "\n",
       "    .dataframe tbody tr th {\n",
       "        vertical-align: top;\n",
       "    }\n",
       "\n",
       "    .dataframe thead th {\n",
       "        text-align: right;\n",
       "    }\n",
       "</style>\n",
       "<table border=\"1\" class=\"dataframe\">\n",
       "  <thead>\n",
       "    <tr style=\"text-align: right;\">\n",
       "      <th></th>\n",
       "      <th>KraftwerkID</th>\n",
       "      <th>BlockID</th>\n",
       "      <th>Blockname</th>\n",
       "      <th>Bundesland</th>\n",
       "      <th>Energieträger</th>\n",
       "      <th>Inbetriebnahme</th>\n",
       "      <th>KWK</th>\n",
       "      <th>Kraftwerksname</th>\n",
       "      <th>Nettoleistung</th>\n",
       "      <th>Ort</th>\n",
       "      <th>PLZ</th>\n",
       "      <th>Status</th>\n",
       "      <th>Stilllegung</th>\n",
       "      <th>Straße und Hausnummer (Standort Kraftwerk)</th>\n",
       "      <th>Unternehmen</th>\n",
       "    </tr>\n",
       "  </thead>\n",
       "  <tbody>\n",
       "    <tr>\n",
       "      <th>367</th>\n",
       "      <td>06-04-11_2001178_8_2</td>\n",
       "      <td>BNA1820</td>\n",
       "      <td>GuD MiBÜ</td>\n",
       "      <td>Bremen</td>\n",
       "      <td>Erdgas</td>\n",
       "      <td>2016.0</td>\n",
       "      <td>Nein</td>\n",
       "      <td>KW Mittelsbüren</td>\n",
       "      <td>444.5</td>\n",
       "      <td>Bremen</td>\n",
       "      <td>28237</td>\n",
       "      <td>in Betrieb</td>\n",
       "      <td>NaN</td>\n",
       "      <td>NaN</td>\n",
       "      <td>Gemeinschaftskraftwerk Bremen GmbH und Co. KG</td>\n",
       "    </tr>\n",
       "  </tbody>\n",
       "</table>\n",
       "</div>"
      ],
      "text/plain": [
       "              KraftwerkID  BlockID Blockname Bundesland Energieträger  \\\n",
       "367  06-04-11_2001178_8_2  BNA1820  GuD MiBÜ     Bremen        Erdgas   \n",
       "\n",
       "     Inbetriebnahme   KWK   Kraftwerksname  Nettoleistung     Ort    PLZ  \\\n",
       "367          2016.0  Nein  KW Mittelsbüren          444.5  Bremen  28237   \n",
       "\n",
       "         Status Stilllegung Straße und Hausnummer (Standort Kraftwerk)  \\\n",
       "367  in Betrieb         NaN                                        NaN   \n",
       "\n",
       "                                       Unternehmen  \n",
       "367  Gemeinschaftskraftwerk Bremen GmbH und Co. KG  "
      ]
     },
     "execution_count": 124,
     "metadata": {},
     "output_type": "execute_result"
    }
   ],
   "source": [
    "pl6.loc[pl6.Kraftwerksname == \"KW Mittelsbüren\"]"
   ]
  },
  {
   "cell_type": "code",
   "execution_count": 125,
   "metadata": {},
   "outputs": [
    {
     "name": "stderr",
     "output_type": "stream",
     "text": [
      "/usr/lib/python3.6/site-packages/ipykernel_launcher.py:1: SettingWithCopyWarning: \n",
      "A value is trying to be set on a copy of a slice from a DataFrame.\n",
      "Try using .loc[row_indexer,col_indexer] = value instead\n",
      "\n",
      "See the caveats in the documentation: http://pandas.pydata.org/pandas-docs/stable/indexing.html#indexing-view-versus-copy\n",
      "  \"\"\"Entry point for launching an IPython kernel.\n"
     ]
    }
   ],
   "source": [
    "pl6['Inbetriebnahme'] = pl6['Inbetriebnahme'].apply(pd.to_numeric)"
   ]
  },
  {
   "cell_type": "code",
   "execution_count": 126,
   "metadata": {},
   "outputs": [],
   "source": [
    "blocks = pl6.copy()\n",
    "stammdaten = pl6.copy()"
   ]
  },
  {
   "cell_type": "code",
   "execution_count": 127,
   "metadata": {},
   "outputs": [],
   "source": [
    "blocks.sort_values(\"Inbetriebnahme\", inplace=True, ascending=False)\n",
    "# blocks"
   ]
  },
  {
   "cell_type": "code",
   "execution_count": 128,
   "metadata": {},
   "outputs": [],
   "source": [
    "plants = blocks.loc[:]\n",
    "plants = plants.dropna(subset=[\"KraftwerkID\"])"
   ]
  },
  {
   "cell_type": "code",
   "execution_count": 129,
   "metadata": {},
   "outputs": [],
   "source": [
    "#plants_d = plants.loc[plants.duplicated(\"KraftwerkID\", keep=False)]\n",
    "# plants_d"
   ]
  },
  {
   "cell_type": "code",
   "execution_count": 130,
   "metadata": {},
   "outputs": [],
   "source": [
    "#plants_c = plants_d.groupby([\"KraftwerkID\"]).sum()\n",
    "#plants_count = plants_d.groupby([\"KraftwerkID\"]).count()"
   ]
  },
  {
   "cell_type": "code",
   "execution_count": 131,
   "metadata": {},
   "outputs": [],
   "source": [
    "#plants_f = plants_c.reset_index()"
   ]
  },
  {
   "cell_type": "code",
   "execution_count": 132,
   "metadata": {},
   "outputs": [],
   "source": [
    "#plants_count = plants_count.loc[:, [\"BlockID\"]]"
   ]
  },
  {
   "cell_type": "code",
   "execution_count": 133,
   "metadata": {},
   "outputs": [],
   "source": [
    "#plants_count = plants_count.reset_index()\n",
    "# plants_count "
   ]
  },
  {
   "cell_type": "code",
   "execution_count": 134,
   "metadata": {},
   "outputs": [],
   "source": [
    "#plants_f = plants_f.merge(plants_count, on=\"KraftwerkID\", how=\"inner\")\n",
    "# plants_f"
   ]
  },
  {
   "cell_type": "code",
   "execution_count": 135,
   "metadata": {
    "scrolled": true
   },
   "outputs": [],
   "source": [
    "#plants[plants.duplicated(['KraftwerkID'], keep=False)].sort_values(\"BlockID\", ascending=False)"
   ]
  },
  {
   "cell_type": "code",
   "execution_count": 136,
   "metadata": {},
   "outputs": [],
   "source": [
    "plants[\"Energieträger\"] = plants[\"Energieträger\"].astype('category')\n",
    "plants[\"Energieträger\"] = plants[\"Energieträger\"].cat.set_categories([\"Kernenergie\", \"Braunkohle\", \"Steinkohle\", \"Erdgas\"], ordered=True)\n",
    "plants[\"Status\"] = plants[\"Status\"].astype('category')\n",
    "plants[\"Status\"] = plants[\"Status\"].cat.set_categories(['in Betrieb', 'Gesetzlich an Stilllegung gehindert', 'Netzreserve',  'Sicherheitsbereitschaft', 'Sonderfall', 'vorläufig stillgelegt', 'stillgelegt'], ordered=True)\n",
    "plants[\"KWK\"] = plants[\"KWK\"].astype('category')\n",
    "plants[\"KWK\"] = plants[\"KWK\"].cat.set_categories(['Ja', 'Nein'], ordered=True)\n",
    "plants[\"Bundesland\"] = plants[\"Bundesland\"].astype('category')\n",
    "plants[\"Bundesland\"] = plants[\"Bundesland\"].cat.set_categories(['Baden-Württemberg', 'Bayern', 'Berlin', 'Brandenburg', 'Bremen', 'Hamburg', 'Hessen', 'Mecklenburg-Vorpommern', 'Niedersachsen', 'Nordrhein-Westfalen', 'Rheinland-Pfalz', 'Saarland', 'Sachsen', 'Sachsen-Anhalt', 'Schleswig-Holstein', 'Thüringen'])"
   ]
  },
  {
   "cell_type": "code",
   "execution_count": 137,
   "metadata": {},
   "outputs": [],
   "source": [
    "p_grp = plants.groupby(\"KraftwerkID\")"
   ]
  },
  {
   "cell_type": "code",
   "execution_count": 138,
   "metadata": {},
   "outputs": [
    {
     "data": {
      "text/html": [
       "<div>\n",
       "<style scoped>\n",
       "    .dataframe tbody tr th:only-of-type {\n",
       "        vertical-align: middle;\n",
       "    }\n",
       "\n",
       "    .dataframe tbody tr th {\n",
       "        vertical-align: top;\n",
       "    }\n",
       "\n",
       "    .dataframe thead th {\n",
       "        text-align: right;\n",
       "    }\n",
       "</style>\n",
       "<table border=\"1\" class=\"dataframe\">\n",
       "  <thead>\n",
       "    <tr style=\"text-align: right;\">\n",
       "      <th></th>\n",
       "      <th>KraftwerkID</th>\n",
       "      <th>BlockID</th>\n",
       "      <th>Inbetriebnahme</th>\n",
       "      <th>Nettoleistung</th>\n",
       "      <th>Ort</th>\n",
       "      <th>PLZ</th>\n",
       "      <th>Unternehmen</th>\n",
       "    </tr>\n",
       "    <tr>\n",
       "      <th>Energieträger</th>\n",
       "      <th></th>\n",
       "      <th></th>\n",
       "      <th></th>\n",
       "      <th></th>\n",
       "      <th></th>\n",
       "      <th></th>\n",
       "      <th></th>\n",
       "    </tr>\n",
       "  </thead>\n",
       "  <tbody>\n",
       "    <tr>\n",
       "      <th>Kernenergie</th>\n",
       "      <td>None</td>\n",
       "      <td>None</td>\n",
       "      <td>NaN</td>\n",
       "      <td>NaN</td>\n",
       "      <td>None</td>\n",
       "      <td>None</td>\n",
       "      <td>None</td>\n",
       "    </tr>\n",
       "    <tr>\n",
       "      <th>Braunkohle</th>\n",
       "      <td>18040</td>\n",
       "      <td>BNA1511a</td>\n",
       "      <td>2012.0</td>\n",
       "      <td>1060.0</td>\n",
       "      <td>Zülpich</td>\n",
       "      <td>9116</td>\n",
       "      <td>eins - energie in sachsen GmbH &amp; Co. KG</td>\n",
       "    </tr>\n",
       "    <tr>\n",
       "      <th>Steinkohle</th>\n",
       "      <td>13-30-1010101</td>\n",
       "      <td>BNA1674</td>\n",
       "      <td>2015.0</td>\n",
       "      <td>875.0</td>\n",
       "      <td>Zolling</td>\n",
       "      <td>91052</td>\n",
       "      <td>swb Erzeugung GmbH &amp; Co. KG</td>\n",
       "    </tr>\n",
       "    <tr>\n",
       "      <th>Erdgas</th>\n",
       "      <td>GAS-0002</td>\n",
       "      <td>BNA1820</td>\n",
       "      <td>2016.0</td>\n",
       "      <td>887.0</td>\n",
       "      <td>Zielitz</td>\n",
       "      <td>99087</td>\n",
       "      <td>envia THERM GmbH</td>\n",
       "    </tr>\n",
       "  </tbody>\n",
       "</table>\n",
       "</div>"
      ],
      "text/plain": [
       "                 KraftwerkID   BlockID  Inbetriebnahme  Nettoleistung  \\\n",
       "Energieträger                                                           \n",
       "Kernenergie             None      None             NaN            NaN   \n",
       "Braunkohle             18040  BNA1511a          2012.0         1060.0   \n",
       "Steinkohle     13-30-1010101   BNA1674          2015.0          875.0   \n",
       "Erdgas              GAS-0002   BNA1820          2016.0          887.0   \n",
       "\n",
       "                   Ort    PLZ                              Unternehmen  \n",
       "Energieträger                                                           \n",
       "Kernenergie       None   None                                     None  \n",
       "Braunkohle     Zülpich   9116  eins - energie in sachsen GmbH & Co. KG  \n",
       "Steinkohle     Zolling  91052              swb Erzeugung GmbH & Co. KG  \n",
       "Erdgas         Zielitz  99087                         envia THERM GmbH  "
      ]
     },
     "execution_count": 138,
     "metadata": {},
     "output_type": "execute_result"
    }
   ],
   "source": [
    "plants.groupby(\"Energieträger\").max()"
   ]
  },
  {
   "cell_type": "code",
   "execution_count": 139,
   "metadata": {},
   "outputs": [],
   "source": [
    "plants_a = pd.DataFrame()\n",
    "for plantid, group in p_grp:\n",
    "    #if not plantid == \"06-05-300-9046797\":\n",
    "    #    continue\n",
    "    entry = {}\n",
    "    #print(entry)\n",
    "    entry[\"plantid\"] = plantid\n",
    "    # entry[\"BlockID\"] = group\n",
    "    try:\n",
    "        entry[\"plantname\"] = group[\"Kraftwerksname\"].value_counts().index[0]\n",
    "    except IndexError:\n",
    "        entry[\"plantname\"] = np.NaN\n",
    "    entry[\"federalstate\"] = group[\"Bundesland\"].value_counts().index[0]\n",
    "    entry[\"energysource\"] = group[\"Energieträger\"].min()\n",
    "    try:\n",
    "        entry[\"chp\"] = group[\"KWK\"].min()\n",
    "    except TypeError:\n",
    "        #print(\"aneror\")\n",
    "        #print(plantid)\n",
    "        #print(group['KWK'].count())\n",
    "        entry[\"chp\"] = \"\"\n",
    "    entry[\"latestexpanded\"] = group[\"Inbetriebnahme\"].max()\n",
    "    entry[\"initialop\"] = group[\"Inbetriebnahme\"].min()\n",
    "    entry[\"totalpower\"] = group[\"Nettoleistung\"].sum()\n",
    "    entry[\"state\"] = group[\"Status\"].min()\n",
    "    entry[\"blockcount\"] = group[\"BlockID\"].count()\n",
    "    entry[\"company\"] = group[\"Unternehmen\"].value_counts().index[0]\n",
    "    #print(entry)\n",
    "    #break\n",
    "    plants_a = plants_a.append(entry, ignore_index=True)"
   ]
  },
  {
   "cell_type": "code",
   "execution_count": 140,
   "metadata": {},
   "outputs": [],
   "source": [
    "int_list = ['blockcount', 'initialop', 'latestexpanded']\n",
    "for column in int_list:\n",
    "    plants_a[column] = plants_a[column].astype(int)\n",
    "#plant['blockcount'] = pl2['blockcount'].apply(pd.to_numeric)\n",
    "#pl2['blockcount'] = pl2['blockcount'].apply(pd.to_numeric)\n",
    "#pl2['blockcount'] = pl2['blockcount'].apply(pd.to_numeric)\n",
    "#pl2['blockcount'] = pl2['blockcount'].apply(pd.to_numeric)"
   ]
  },
  {
   "cell_type": "code",
   "execution_count": 141,
   "metadata": {},
   "outputs": [
    {
     "data": {
      "text/plain": [
       "blockcount          int64\n",
       "chp                object\n",
       "company            object\n",
       "energysource       object\n",
       "federalstate       object\n",
       "initialop           int64\n",
       "latestexpanded      int64\n",
       "plantid            object\n",
       "plantname          object\n",
       "state              object\n",
       "totalpower        float64\n",
       "dtype: object"
      ]
     },
     "execution_count": 141,
     "metadata": {},
     "output_type": "execute_result"
    }
   ],
   "source": [
    "plants_a.dtypes"
   ]
  },
  {
   "cell_type": "code",
   "execution_count": 142,
   "metadata": {},
   "outputs": [],
   "source": [
    "plants_a[\"energysource\"] = plants_a[\"energysource\"].astype('category')\n",
    "plants_a[\"energysource\"] = plants_a[\"energysource\"].cat.set_categories([\"Kernenergie\", \"Braunkohle\", \"Steinkohle\", \"Erdgas\"], ordered=True)\n",
    "plants_a[\"state\"] = plants_a[\"state\"].astype('category')\n",
    "plants_a[\"state\"] = plants_a[\"state\"].cat.set_categories(['in Betrieb', 'Gesetzlich an Stilllegung gehindert', 'Netzreserve',  'Sicherheitsbereitschaft', 'Sonderfall', 'vorläufig stillgelegt', 'stillgelegt'], ordered=True)\n",
    "plants_a[\"chp\"] = plants_a[\"chp\"].astype('category')\n",
    "plants_a[\"chp\"] = plants_a[\"chp\"].cat.set_categories(['Ja', 'Nein'], ordered=True)\n",
    "plants_a[\"federalstate\"] = plants_a[\"federalstate\"].astype('category')\n",
    "plants_a[\"federalstate\"] = plants_a[\"federalstate\"].cat.set_categories(['Baden-Württemberg', 'Bayern', 'Berlin', 'Brandenburg', 'Bremen', 'Hamburg', 'Hessen', 'Mecklenburg-Vorpommern', 'Niedersachsen', 'Nordrhein-Westfalen', 'Rheinland-Pfalz', 'Saarland', 'Sachsen', 'Sachsen-Anhalt', 'Schleswig-Holstein', 'Thüringen'])"
   ]
  },
  {
   "cell_type": "code",
   "execution_count": 143,
   "metadata": {},
   "outputs": [
    {
     "data": {
      "text/plain": [
       "blockcount           int64\n",
       "chp               category\n",
       "company             object\n",
       "energysource      category\n",
       "federalstate      category\n",
       "initialop            int64\n",
       "latestexpanded       int64\n",
       "plantid             object\n",
       "plantname           object\n",
       "state             category\n",
       "totalpower         float64\n",
       "dtype: object"
      ]
     },
     "execution_count": 143,
     "metadata": {},
     "output_type": "execute_result"
    }
   ],
   "source": [
    "plants_a.dtypes"
   ]
  },
  {
   "cell_type": "code",
   "execution_count": 144,
   "metadata": {},
   "outputs": [
    {
     "data": {
      "text/html": [
       "<div>\n",
       "<style scoped>\n",
       "    .dataframe tbody tr th:only-of-type {\n",
       "        vertical-align: middle;\n",
       "    }\n",
       "\n",
       "    .dataframe tbody tr th {\n",
       "        vertical-align: top;\n",
       "    }\n",
       "\n",
       "    .dataframe thead th {\n",
       "        text-align: right;\n",
       "    }\n",
       "</style>\n",
       "<table border=\"1\" class=\"dataframe\">\n",
       "  <thead>\n",
       "    <tr style=\"text-align: right;\">\n",
       "      <th></th>\n",
       "      <th>blockcount</th>\n",
       "      <th>chp</th>\n",
       "      <th>company</th>\n",
       "      <th>energysource</th>\n",
       "      <th>federalstate</th>\n",
       "      <th>initialop</th>\n",
       "      <th>latestexpanded</th>\n",
       "      <th>plantid</th>\n",
       "      <th>plantname</th>\n",
       "      <th>state</th>\n",
       "      <th>totalpower</th>\n",
       "    </tr>\n",
       "  </thead>\n",
       "  <tbody>\n",
       "    <tr>\n",
       "      <th>49</th>\n",
       "      <td>9</td>\n",
       "      <td>Ja</td>\n",
       "      <td>RWE AG</td>\n",
       "      <td>Braunkohle</td>\n",
       "      <td>Nordrhein-Westfalen</td>\n",
       "      <td>1963</td>\n",
       "      <td>2002</td>\n",
       "      <td>06-05-300-0326774</td>\n",
       "      <td>Niederaußem</td>\n",
       "      <td>in Betrieb</td>\n",
       "      <td>3656.0</td>\n",
       "    </tr>\n",
       "  </tbody>\n",
       "</table>\n",
       "</div>"
      ],
      "text/plain": [
       "    blockcount chp company energysource         federalstate  initialop  \\\n",
       "49           9  Ja  RWE AG   Braunkohle  Nordrhein-Westfalen       1963   \n",
       "\n",
       "    latestexpanded            plantid    plantname       state  totalpower  \n",
       "49            2002  06-05-300-0326774  Niederaußem  in Betrieb      3656.0  "
      ]
     },
     "execution_count": 144,
     "metadata": {},
     "output_type": "execute_result"
    }
   ],
   "source": [
    "plants_a.loc[plants_a.plantid == \"06-05-300-0326774\"]"
   ]
  },
  {
   "cell_type": "code",
   "execution_count": 145,
   "metadata": {},
   "outputs": [
    {
     "data": {
      "text/html": [
       "<div>\n",
       "<style scoped>\n",
       "    .dataframe tbody tr th:only-of-type {\n",
       "        vertical-align: middle;\n",
       "    }\n",
       "\n",
       "    .dataframe tbody tr th {\n",
       "        vertical-align: top;\n",
       "    }\n",
       "\n",
       "    .dataframe thead th {\n",
       "        text-align: right;\n",
       "    }\n",
       "</style>\n",
       "<table border=\"1\" class=\"dataframe\">\n",
       "  <thead>\n",
       "    <tr style=\"text-align: right;\">\n",
       "      <th></th>\n",
       "      <th>blockcount</th>\n",
       "      <th>chp</th>\n",
       "      <th>company</th>\n",
       "      <th>energysource</th>\n",
       "      <th>federalstate</th>\n",
       "      <th>initialop</th>\n",
       "      <th>latestexpanded</th>\n",
       "      <th>plantid</th>\n",
       "      <th>plantname</th>\n",
       "      <th>state</th>\n",
       "      <th>totalpower</th>\n",
       "    </tr>\n",
       "  </thead>\n",
       "  <tbody>\n",
       "    <tr>\n",
       "      <th>20</th>\n",
       "      <td>4</td>\n",
       "      <td>Ja</td>\n",
       "      <td>Uniper SE</td>\n",
       "      <td>Steinkohle</td>\n",
       "      <td>Hessen</td>\n",
       "      <td>1965</td>\n",
       "      <td>1992</td>\n",
       "      <td>06-00176010435</td>\n",
       "      <td>Staudinger</td>\n",
       "      <td>in Betrieb</td>\n",
       "      <td>1624.0</td>\n",
       "    </tr>\n",
       "  </tbody>\n",
       "</table>\n",
       "</div>"
      ],
      "text/plain": [
       "    blockcount chp    company energysource federalstate  initialop  \\\n",
       "20           4  Ja  Uniper SE   Steinkohle       Hessen       1965   \n",
       "\n",
       "    latestexpanded         plantid   plantname       state  totalpower  \n",
       "20            1992  06-00176010435  Staudinger  in Betrieb      1624.0  "
      ]
     },
     "execution_count": 145,
     "metadata": {},
     "output_type": "execute_result"
    }
   ],
   "source": [
    "plants_a.loc[plants_a.plantid == \"06-00176010435\"]"
   ]
  },
  {
   "cell_type": "code",
   "execution_count": 146,
   "metadata": {},
   "outputs": [
    {
     "data": {
      "text/html": [
       "<div>\n",
       "<style scoped>\n",
       "    .dataframe tbody tr th:only-of-type {\n",
       "        vertical-align: middle;\n",
       "    }\n",
       "\n",
       "    .dataframe tbody tr th {\n",
       "        vertical-align: top;\n",
       "    }\n",
       "\n",
       "    .dataframe thead th {\n",
       "        text-align: right;\n",
       "    }\n",
       "</style>\n",
       "<table border=\"1\" class=\"dataframe\">\n",
       "  <thead>\n",
       "    <tr style=\"text-align: right;\">\n",
       "      <th></th>\n",
       "      <th>blockcount</th>\n",
       "      <th>chp</th>\n",
       "      <th>company</th>\n",
       "      <th>energysource</th>\n",
       "      <th>federalstate</th>\n",
       "      <th>initialop</th>\n",
       "      <th>latestexpanded</th>\n",
       "      <th>plantid</th>\n",
       "      <th>plantname</th>\n",
       "      <th>state</th>\n",
       "      <th>totalpower</th>\n",
       "    </tr>\n",
       "  </thead>\n",
       "  <tbody>\n",
       "    <tr>\n",
       "      <th>71</th>\n",
       "      <td>9</td>\n",
       "      <td>Nein</td>\n",
       "      <td>RWE AG</td>\n",
       "      <td>Steinkohle</td>\n",
       "      <td>Nordrhein-Westfalen</td>\n",
       "      <td>1973</td>\n",
       "      <td>1984</td>\n",
       "      <td>06-05-900-0865327</td>\n",
       "      <td>Gersteinwerk</td>\n",
       "      <td>in Betrieb</td>\n",
       "      <td>2011.0</td>\n",
       "    </tr>\n",
       "  </tbody>\n",
       "</table>\n",
       "</div>"
      ],
      "text/plain": [
       "    blockcount   chp company energysource         federalstate  initialop  \\\n",
       "71           9  Nein  RWE AG   Steinkohle  Nordrhein-Westfalen       1973   \n",
       "\n",
       "    latestexpanded            plantid     plantname       state  totalpower  \n",
       "71            1984  06-05-900-0865327  Gersteinwerk  in Betrieb      2011.0  "
      ]
     },
     "execution_count": 146,
     "metadata": {},
     "output_type": "execute_result"
    }
   ],
   "source": [
    "plants_a.loc[plants_a.plantid == \"06-05-900-0865327\"]"
   ]
  },
  {
   "cell_type": "code",
   "execution_count": 147,
   "metadata": {},
   "outputs": [],
   "source": [
    "#plants_a = plants.drop_duplicates(subset=\"KraftwerkID\")"
   ]
  },
  {
   "cell_type": "code",
   "execution_count": null,
   "metadata": {},
   "outputs": [],
   "source": []
  },
  {
   "cell_type": "code",
   "execution_count": 148,
   "metadata": {},
   "outputs": [],
   "source": [
    "column_titles = ['plantid', 'plantname', 'federalstate','energysource', 'chp', 'latestexpanded', 'initialop', 'totalpower', 'state', 'blockcount', 'company']\n",
    "plants_b = plants_a.reindex(columns=column_titles)"
   ]
  },
  {
   "cell_type": "code",
   "execution_count": 149,
   "metadata": {},
   "outputs": [],
   "source": [
    "#plants_b"
   ]
  },
  {
   "cell_type": "code",
   "execution_count": 150,
   "metadata": {},
   "outputs": [],
   "source": [
    "blocks.drop(['Ort', 'PLZ', 'Straße und Hausnummer (Standort Kraftwerk)', 'Blockname'], axis=1, inplace=True)"
   ]
  },
  {
   "cell_type": "code",
   "execution_count": 151,
   "metadata": {},
   "outputs": [
    {
     "data": {
      "text/html": [
       "<div>\n",
       "<style scoped>\n",
       "    .dataframe tbody tr th:only-of-type {\n",
       "        vertical-align: middle;\n",
       "    }\n",
       "\n",
       "    .dataframe tbody tr th {\n",
       "        vertical-align: top;\n",
       "    }\n",
       "\n",
       "    .dataframe thead th {\n",
       "        text-align: right;\n",
       "    }\n",
       "</style>\n",
       "<table border=\"1\" class=\"dataframe\">\n",
       "  <thead>\n",
       "    <tr style=\"text-align: right;\">\n",
       "      <th></th>\n",
       "      <th>KraftwerkID</th>\n",
       "      <th>BlockID</th>\n",
       "      <th>Bundesland</th>\n",
       "      <th>Energieträger</th>\n",
       "      <th>Inbetriebnahme</th>\n",
       "      <th>KWK</th>\n",
       "      <th>Kraftwerksname</th>\n",
       "      <th>Nettoleistung</th>\n",
       "      <th>Status</th>\n",
       "      <th>Stilllegung</th>\n",
       "      <th>Unternehmen</th>\n",
       "    </tr>\n",
       "  </thead>\n",
       "  <tbody>\n",
       "  </tbody>\n",
       "</table>\n",
       "</div>"
      ],
      "text/plain": [
       "Empty DataFrame\n",
       "Columns: [KraftwerkID, BlockID, Bundesland, Energieträger, Inbetriebnahme, KWK, Kraftwerksname, Nettoleistung, Status, Stilllegung, Unternehmen]\n",
       "Index: []"
      ]
     },
     "execution_count": 151,
     "metadata": {},
     "output_type": "execute_result"
    }
   ],
   "source": [
    "blocks[blocks.duplicated(['BlockID'], keep=False)].sort_values(\"BlockID\", ascending=False)"
   ]
  },
  {
   "cell_type": "code",
   "execution_count": 152,
   "metadata": {},
   "outputs": [],
   "source": [
    "plants_b.sort_values(\"initialop\", ascending=False, inplace=True)"
   ]
  },
  {
   "cell_type": "code",
   "execution_count": 153,
   "metadata": {},
   "outputs": [],
   "source": [
    "#drop_list = ['Blockname', 'KWK', 'Nettoleistung', 'Stilllegung', 'Straße und Hausnummer (Standort Kraftwerk)', 'PLZ', 'Ort', 'Nettoleistung']\n",
    "#plants_g = plants_f.drop(drop_list, axis=1)"
   ]
  },
  {
   "cell_type": "code",
   "execution_count": 154,
   "metadata": {},
   "outputs": [],
   "source": [
    "#plants_h = plants_g.rename(columns={\"KraftwerkID\": \"plantid\", \"Gesamtleistung\": \"totalpower\", \"Blockzahl\": \"blockcount\", \"BlockID\": \"blockid\", \"Bundesland\": \"federalstate\", \"Energieträger\": \"energysource\", \"Inbetriebnahme\": \"latestexpanded\", \"Kraftwerksname\": \"plantname\", \"Status\": \"state\", \"Unternehmen\": \"company\"})"
   ]
  },
  {
   "cell_type": "code",
   "execution_count": 155,
   "metadata": {},
   "outputs": [],
   "source": [
    "plants_final = plants_b.loc[:]"
   ]
  },
  {
   "cell_type": "code",
   "execution_count": 156,
   "metadata": {},
   "outputs": [
    {
     "data": {
      "text/plain": [
       "plantid             object\n",
       "plantname           object\n",
       "federalstate      category\n",
       "energysource      category\n",
       "chp               category\n",
       "latestexpanded       int64\n",
       "initialop            int64\n",
       "totalpower         float64\n",
       "state             category\n",
       "blockcount           int64\n",
       "company             object\n",
       "dtype: object"
      ]
     },
     "execution_count": 156,
     "metadata": {},
     "output_type": "execute_result"
    }
   ],
   "source": [
    "plants_final.dtypes"
   ]
  },
  {
   "cell_type": "code",
   "execution_count": 157,
   "metadata": {},
   "outputs": [],
   "source": [
    "# plants_final"
   ]
  },
  {
   "cell_type": "code",
   "execution_count": 158,
   "metadata": {},
   "outputs": [],
   "source": [
    "# stammdaten"
   ]
  },
  {
   "cell_type": "code",
   "execution_count": 159,
   "metadata": {},
   "outputs": [],
   "source": [
    "# cols = [0,2,3,9,10,11,12]\n",
    "drop_list = ['KraftwerkID', 'Blockname', 'Energieträger', 'Inbetriebnahme', 'KWK', 'Kraftwerksname', 'Nettoleistung', 'Status', 'Stilllegung', 'Unternehmen']\n",
    "stammdaten.drop(drop_list, axis=1, inplace=True)"
   ]
  },
  {
   "cell_type": "code",
   "execution_count": 160,
   "metadata": {},
   "outputs": [],
   "source": [
    "stammdaten.to_csv(\"stammdaten.csv\", index=False)"
   ]
  },
  {
   "cell_type": "code",
   "execution_count": 161,
   "metadata": {},
   "outputs": [],
   "source": [
    "plants_final.to_csv(\"plants.csv\", index=False)"
   ]
  },
  {
   "cell_type": "code",
   "execution_count": 162,
   "metadata": {},
   "outputs": [],
   "source": [
    "blocks.to_csv(\"blocks_3.csv\", index=False)"
   ]
  },
  {
   "cell_type": "code",
   "execution_count": 163,
   "metadata": {},
   "outputs": [],
   "source": [
    "stammdaten.to_csv(\"stammdaten_nh.csv\", index=False, header=False)\n",
    "blocks.to_csv(\"blocks_nh.csv\", index=False, header=False)\n",
    "plants_final.to_csv(\"plants_nh.csv\", index=False, header=False)"
   ]
  },
  {
   "cell_type": "code",
   "execution_count": 164,
   "metadata": {},
   "outputs": [],
   "source": [
    "#bm2.to_csv(\"bpm.csv\", index=False)"
   ]
  }
 ],
 "metadata": {
  "kernelspec": {
   "display_name": "Python 3",
   "language": "python",
   "name": "python3"
  },
  "language_info": {
   "codemirror_mode": {
    "name": "ipython",
    "version": 3
   },
   "file_extension": ".py",
   "mimetype": "text/x-python",
   "name": "python",
   "nbconvert_exporter": "python",
   "pygments_lexer": "ipython3",
   "version": "3.6.4"
  }
 },
 "nbformat": 4,
 "nbformat_minor": 2
}
