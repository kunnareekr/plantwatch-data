{
 "cells": [
  {
   "cell_type": "code",
   "execution_count": 20,
   "metadata": {},
   "outputs": [],
   "source": [
    "import pandas as pd\n",
    "import numpy as np"
   ]
  },
  {
   "cell_type": "code",
   "execution_count": 21,
   "metadata": {},
   "outputs": [],
   "source": [
    "pl0 = pd.read_csv(\"plants_next.csv\")"
   ]
  },
  {
   "cell_type": "code",
   "execution_count": 22,
   "metadata": {},
   "outputs": [],
   "source": [
    "# pl0"
   ]
  },
  {
   "cell_type": "code",
   "execution_count": 23,
   "metadata": {},
   "outputs": [],
   "source": [
    "pl1 = pl0.groupby([\"Ersatz\"]).count().reset_index()"
   ]
  },
  {
   "cell_type": "code",
   "execution_count": 24,
   "metadata": {},
   "outputs": [],
   "source": [
    "pl2 = pl1.rename(columns={ \"plantid\": \"count\"})\n",
    "cols = [2, 3, 4, 5, 6, 7]\n",
    "pl3 = pl2.drop(pl2.columns[cols],axis=1)"
   ]
  },
  {
   "cell_type": "code",
   "execution_count": 25,
   "metadata": {
    "scrolled": true
   },
   "outputs": [
    {
     "data": {
      "text/plain": [
       "Ersatz    object\n",
       "count      int64\n",
       "dtype: object"
      ]
     },
     "execution_count": 25,
     "metadata": {},
     "output_type": "execute_result"
    }
   ],
   "source": [
    "pl3.dtypes"
   ]
  },
  {
   "cell_type": "code",
   "execution_count": null,
   "metadata": {},
   "outputs": [],
   "source": []
  },
  {
   "cell_type": "code",
   "execution_count": 26,
   "metadata": {},
   "outputs": [],
   "source": [
    "pl4 = pl3.loc[:]"
   ]
  },
  {
   "cell_type": "code",
   "execution_count": 27,
   "metadata": {},
   "outputs": [],
   "source": [
    "pl4.loc[pl4.Ersatz==\"800x1\", 'netpower'] = 80.7\n",
    "pl4.loc[pl4.Ersatz==\"800x2\", 'netpower'] = 161.1\n",
    "pl4.loc[pl4.Ersatz==\"9000x1\", 'netpower'] = 837.9\n",
    "pl4.loc[pl4.Ersatz==\"9000x2\", 'netpower'] = 1675.8"
   ]
  },
  {
   "cell_type": "code",
   "execution_count": 28,
   "metadata": {},
   "outputs": [],
   "source": [
    "pl4.loc[pl4.Ersatz==\"800x1\", 'cost'] = 100\n",
    "pl4.loc[pl4.Ersatz==\"800x2\", 'cost'] = 200\n",
    "pl4.loc[pl4.Ersatz==\"9000x1\", 'cost'] = 450\n",
    "pl4.loc[pl4.Ersatz==\"9000x2\", 'cost'] = 800"
   ]
  },
  {
   "cell_type": "code",
   "execution_count": 29,
   "metadata": {},
   "outputs": [
    {
     "data": {
      "text/plain": [
       "Ersatz       object\n",
       "count         int64\n",
       "netpower    float64\n",
       "cost        float64\n",
       "dtype: object"
      ]
     },
     "execution_count": 29,
     "metadata": {},
     "output_type": "execute_result"
    }
   ],
   "source": [
    "pl4.dtypes"
   ]
  },
  {
   "cell_type": "code",
   "execution_count": 30,
   "metadata": {},
   "outputs": [],
   "source": [
    "pl5 = pl4.loc[:]"
   ]
  },
  {
   "cell_type": "code",
   "execution_count": 31,
   "metadata": {},
   "outputs": [],
   "source": [
    "# pl5.loc[\"totalpower\"] = pl5.loc[\"netpower\"] * pl5.loc[\"count\"]\n",
    "pl5['totalpower'] = pl5[\"netpower\"] * pl5[\"count\"]\n",
    "pl5['totalcost'] = pl5[\"cost\"] * pl5[\"count\"]\n",
    "#pl5['totalpower'] = "
   ]
  },
  {
   "cell_type": "code",
   "execution_count": 32,
   "metadata": {},
   "outputs": [],
   "source": [
    "pl6 = pl5.loc[:]"
   ]
  },
  {
   "cell_type": "code",
   "execution_count": 33,
   "metadata": {},
   "outputs": [],
   "source": [
    "pl6['1500'] = (pl6[\"totalpower\"] * 1500) / 10**6\n",
    "pl6['3000'] = (pl6[\"totalpower\"] * 3000) / 10**6\n",
    "pl6['4500'] = (pl6[\"totalpower\"] * 4500) / 10**6\n",
    "pl6['6000'] = (pl6[\"totalpower\"] * 6000) / 10**6"
   ]
  },
  {
   "cell_type": "code",
   "execution_count": 34,
   "metadata": {},
   "outputs": [],
   "source": [
    "#pl7 = pl6.loc[:, [\"count\",\"netpower\",\"totalpower\",\"1500\", \"3000\", \"6000\"]]"
   ]
  },
  {
   "cell_type": "code",
   "execution_count": 35,
   "metadata": {},
   "outputs": [],
   "source": [
    "#pl7"
   ]
  },
  {
   "cell_type": "code",
   "execution_count": 36,
   "metadata": {},
   "outputs": [
    {
     "data": {
      "text/html": [
       "<div>\n",
       "<style scoped>\n",
       "    .dataframe tbody tr th:only-of-type {\n",
       "        vertical-align: middle;\n",
       "    }\n",
       "\n",
       "    .dataframe tbody tr th {\n",
       "        vertical-align: top;\n",
       "    }\n",
       "\n",
       "    .dataframe thead th {\n",
       "        text-align: right;\n",
       "    }\n",
       "</style>\n",
       "<table border=\"1\" class=\"dataframe\">\n",
       "  <thead>\n",
       "    <tr style=\"text-align: right;\">\n",
       "      <th></th>\n",
       "      <th>Ersatz</th>\n",
       "      <th>count</th>\n",
       "      <th>netpower</th>\n",
       "      <th>cost</th>\n",
       "      <th>totalpower</th>\n",
       "      <th>totalcost</th>\n",
       "      <th>1500</th>\n",
       "      <th>3000</th>\n",
       "      <th>4500</th>\n",
       "      <th>6000</th>\n",
       "    </tr>\n",
       "  </thead>\n",
       "  <tbody>\n",
       "    <tr>\n",
       "      <th>0</th>\n",
       "      <td>800x1</td>\n",
       "      <td>18.0</td>\n",
       "      <td>80.7</td>\n",
       "      <td>100.0</td>\n",
       "      <td>1452.6</td>\n",
       "      <td>1800.0</td>\n",
       "      <td>2.1789</td>\n",
       "      <td>4.3578</td>\n",
       "      <td>6.5367</td>\n",
       "      <td>8.7156</td>\n",
       "    </tr>\n",
       "    <tr>\n",
       "      <th>1</th>\n",
       "      <td>800x2</td>\n",
       "      <td>12.0</td>\n",
       "      <td>161.1</td>\n",
       "      <td>200.0</td>\n",
       "      <td>1933.2</td>\n",
       "      <td>2400.0</td>\n",
       "      <td>2.8998</td>\n",
       "      <td>5.7996</td>\n",
       "      <td>8.6994</td>\n",
       "      <td>11.5992</td>\n",
       "    </tr>\n",
       "    <tr>\n",
       "      <th>2</th>\n",
       "      <td>9000x1</td>\n",
       "      <td>6.0</td>\n",
       "      <td>837.9</td>\n",
       "      <td>450.0</td>\n",
       "      <td>5027.4</td>\n",
       "      <td>2700.0</td>\n",
       "      <td>7.5411</td>\n",
       "      <td>15.0822</td>\n",
       "      <td>22.6233</td>\n",
       "      <td>30.1644</td>\n",
       "    </tr>\n",
       "    <tr>\n",
       "      <th>3</th>\n",
       "      <td>9000x2</td>\n",
       "      <td>1.0</td>\n",
       "      <td>1675.8</td>\n",
       "      <td>800.0</td>\n",
       "      <td>1675.8</td>\n",
       "      <td>800.0</td>\n",
       "      <td>2.5137</td>\n",
       "      <td>5.0274</td>\n",
       "      <td>7.5411</td>\n",
       "      <td>10.0548</td>\n",
       "    </tr>\n",
       "    <tr>\n",
       "      <th>4</th>\n",
       "      <td>NaN</td>\n",
       "      <td>37.0</td>\n",
       "      <td>2755.5</td>\n",
       "      <td>1550.0</td>\n",
       "      <td>10089.0</td>\n",
       "      <td>7700.0</td>\n",
       "      <td>15.1335</td>\n",
       "      <td>30.2670</td>\n",
       "      <td>45.4005</td>\n",
       "      <td>60.5340</td>\n",
       "    </tr>\n",
       "  </tbody>\n",
       "</table>\n",
       "</div>"
      ],
      "text/plain": [
       "   Ersatz  count  netpower    cost  totalpower  totalcost     1500     3000  \\\n",
       "0   800x1   18.0      80.7   100.0      1452.6     1800.0   2.1789   4.3578   \n",
       "1   800x2   12.0     161.1   200.0      1933.2     2400.0   2.8998   5.7996   \n",
       "2  9000x1    6.0     837.9   450.0      5027.4     2700.0   7.5411  15.0822   \n",
       "3  9000x2    1.0    1675.8   800.0      1675.8      800.0   2.5137   5.0274   \n",
       "4     NaN   37.0    2755.5  1550.0     10089.0     7700.0  15.1335  30.2670   \n",
       "\n",
       "      4500     6000  \n",
       "0   6.5367   8.7156  \n",
       "1   8.6994  11.5992  \n",
       "2  22.6233  30.1644  \n",
       "3   7.5411  10.0548  \n",
       "4  45.4005  60.5340  "
      ]
     },
     "execution_count": 36,
     "metadata": {},
     "output_type": "execute_result"
    }
   ],
   "source": [
    "pl6.append(pl6.sum(numeric_only=True), ignore_index=True)"
   ]
  },
  {
   "cell_type": "code",
   "execution_count": 37,
   "metadata": {},
   "outputs": [],
   "source": [
    "# newdf['Stilllegung'] = newdf['Stilllegung'].astype(int)\n",
    "#newdf['Stilllegung'] = newdf['Stilllegung'].apply(lambda x: int(x) if x == x else None)"
   ]
  }
 ],
 "metadata": {
  "kernelspec": {
   "display_name": "Python 3",
   "language": "python",
   "name": "python3"
  },
  "language_info": {
   "codemirror_mode": {
    "name": "ipython",
    "version": 3
   },
   "file_extension": ".py",
   "mimetype": "text/x-python",
   "name": "python",
   "nbconvert_exporter": "python",
   "pygments_lexer": "ipython3",
   "version": "3.6.4"
  }
 },
 "nbformat": 4,
 "nbformat_minor": 2
}
