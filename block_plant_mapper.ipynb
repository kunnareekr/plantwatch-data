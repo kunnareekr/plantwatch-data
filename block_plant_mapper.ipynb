{
 "cells": [
  {
   "cell_type": "code",
   "execution_count": 2,
   "metadata": {},
   "outputs": [],
   "source": [
    "import pandas as pd\n",
    "import numpy as np"
   ]
  },
  {
   "cell_type": "code",
   "execution_count": 3,
   "metadata": {},
   "outputs": [],
   "source": [
    "pl0 = pd.read_csv(\"Kraftwerksliste_CSV.csv\", error_bad_lines=False, engine=\"python\", encoding=\"latin1\", sep=\";\", skiprows=9)\n",
    "bm = pd.read_csv(\"block_plant_mapper.csv\", error_bad_lines=False, engine=\"python\", sep=\";\")"
   ]
  },
  {
   "cell_type": "code",
   "execution_count": 4,
   "metadata": {},
   "outputs": [],
   "source": [
    "pl0.rename(columns={ pl0.columns[10]: \"Energieträger_old\", pl0.columns[13]: \"Energieträger\"}, inplace=True)"
   ]
  },
  {
   "cell_type": "code",
   "execution_count": 5,
   "metadata": {},
   "outputs": [],
   "source": [
    "#bm"
   ]
  },
  {
   "cell_type": "code",
   "execution_count": 6,
   "metadata": {},
   "outputs": [],
   "source": [
    "#bm\n",
    "pl1 = pl0.loc[np.logical_or(pl0.Energieträger == \"Kernenergie\", np.logical_or(pl0.Energieträger == \"Erdgas\", np.logical_or(pl0.Energieträger == \"Steinkohle\", pl0.Energieträger == \"Braunkohle\"))), :]"
   ]
  },
  {
   "cell_type": "code",
   "execution_count": 75,
   "metadata": {},
   "outputs": [],
   "source": [
    "pl2 = pl1.rename(columns={ pl1.columns[0]: \"BlockID\", pl1.columns[3]: \"PLZ\", pl1.columns[4]: \"Ort\", pl1.columns[8]: \"Inbetriebnahme\", pl1.columns[9]: \"Status\", pl1.columns[15]: \"KWK\", pl1.columns[16]: \"Nettoleistung\"})"
   ]
  },
  {
   "cell_type": "code",
   "execution_count": 76,
   "metadata": {},
   "outputs": [],
   "source": [
    "cols = [10, 11,12,14,17,18,19]\n",
    "pl3 = pl2.drop(pl2.columns[cols],axis=1)"
   ]
  },
  {
   "cell_type": "code",
   "execution_count": 101,
   "metadata": {},
   "outputs": [],
   "source": [
    "#pl3"
   ]
  },
  {
   "cell_type": "code",
   "execution_count": 143,
   "metadata": {},
   "outputs": [],
   "source": [
    "#gas = pl3.loc[pl1.Energieträger == \"Steinkohle\"]"
   ]
  },
  {
   "cell_type": "code",
   "execution_count": 205,
   "metadata": {},
   "outputs": [],
   "source": [
    "gases = pl3.loc[:]"
   ]
  },
  {
   "cell_type": "code",
   "execution_count": 206,
   "metadata": {},
   "outputs": [],
   "source": [
    "atest = gases.groupby([\"PLZ\"]).count()"
   ]
  },
  {
   "cell_type": "code",
   "execution_count": 296,
   "metadata": {},
   "outputs": [
    {
     "data": {
      "text/html": [
       "<div>\n",
       "<style scoped>\n",
       "    .dataframe tbody tr th:only-of-type {\n",
       "        vertical-align: middle;\n",
       "    }\n",
       "\n",
       "    .dataframe tbody tr th {\n",
       "        vertical-align: top;\n",
       "    }\n",
       "\n",
       "    .dataframe thead th {\n",
       "        text-align: right;\n",
       "    }\n",
       "</style>\n",
       "<table border=\"1\" class=\"dataframe\">\n",
       "  <thead>\n",
       "    <tr style=\"text-align: right;\">\n",
       "      <th></th>\n",
       "      <th>BlockID</th>\n",
       "      <th>Unternehmen</th>\n",
       "      <th>Kraftwerksname</th>\n",
       "      <th>PLZ</th>\n",
       "      <th>Ort</th>\n",
       "      <th>Straße und Hausnummer (Standort Kraftwerk)</th>\n",
       "      <th>Bundesland</th>\n",
       "      <th>Blockname</th>\n",
       "      <th>Inbetriebnahme</th>\n",
       "      <th>Status</th>\n",
       "      <th>Energieträger</th>\n",
       "      <th>KWK</th>\n",
       "      <th>Nettoleistung</th>\n",
       "    </tr>\n",
       "  </thead>\n",
       "  <tbody>\n",
       "    <tr>\n",
       "      <th>436</th>\n",
       "      <td>BNA1819</td>\n",
       "      <td>Stadtwerke Flensburg GmbH</td>\n",
       "      <td>Heizkraftwerk FL</td>\n",
       "      <td>24939</td>\n",
       "      <td>Flensburg</td>\n",
       "      <td>Batteriestr. 48</td>\n",
       "      <td>Schleswig-Holstein</td>\n",
       "      <td>Block 12</td>\n",
       "      <td>2016</td>\n",
       "      <td>in Betrieb</td>\n",
       "      <td>Erdgas</td>\n",
       "      <td>Ja</td>\n",
       "      <td>75</td>\n",
       "    </tr>\n",
       "    <tr>\n",
       "      <th>437</th>\n",
       "      <td>BNA0270</td>\n",
       "      <td>Stadtwerke Flensburg GmbH</td>\n",
       "      <td>Heizkraftwerk FL</td>\n",
       "      <td>24939</td>\n",
       "      <td>Flensburg</td>\n",
       "      <td>Batteriestr. 48</td>\n",
       "      <td>Schleswig-Holstein</td>\n",
       "      <td>Block 11</td>\n",
       "      <td>1992</td>\n",
       "      <td>in Betrieb</td>\n",
       "      <td>Steinkohle</td>\n",
       "      <td>ja</td>\n",
       "      <td>27</td>\n",
       "    </tr>\n",
       "    <tr>\n",
       "      <th>438</th>\n",
       "      <td>BNA0271</td>\n",
       "      <td>Stadtwerke Flensburg GmbH</td>\n",
       "      <td>Heizkraftwerk FL</td>\n",
       "      <td>24939</td>\n",
       "      <td>Flensburg</td>\n",
       "      <td>Batteriestr. 48</td>\n",
       "      <td>Schleswig-Holstein</td>\n",
       "      <td>Block 10</td>\n",
       "      <td>1988</td>\n",
       "      <td>in Betrieb</td>\n",
       "      <td>Steinkohle</td>\n",
       "      <td>ja</td>\n",
       "      <td>29</td>\n",
       "    </tr>\n",
       "    <tr>\n",
       "      <th>439</th>\n",
       "      <td>BNA0272</td>\n",
       "      <td>Stadtwerke Flensburg GmbH</td>\n",
       "      <td>Heizkraftwerk FL</td>\n",
       "      <td>24939</td>\n",
       "      <td>Flensburg</td>\n",
       "      <td>Batteriestr. 48</td>\n",
       "      <td>Schleswig-Holstein</td>\n",
       "      <td>Block 9</td>\n",
       "      <td>1985</td>\n",
       "      <td>in Betrieb</td>\n",
       "      <td>Steinkohle</td>\n",
       "      <td>ja</td>\n",
       "      <td>33</td>\n",
       "    </tr>\n",
       "    <tr>\n",
       "      <th>2004</th>\n",
       "      <td>BNA0273</td>\n",
       "      <td>Stadtwerke Flensburg GmbH</td>\n",
       "      <td>Heizkraftwerk FL</td>\n",
       "      <td>24939</td>\n",
       "      <td>Flensburg</td>\n",
       "      <td>Batteriestr. 48</td>\n",
       "      <td>Schleswig-Holstein</td>\n",
       "      <td>Block 8</td>\n",
       "      <td>1982</td>\n",
       "      <td>Endgültig Stillgelegt 2016 (mit StA)</td>\n",
       "      <td>Steinkohle</td>\n",
       "      <td>ja</td>\n",
       "      <td>35</td>\n",
       "    </tr>\n",
       "    <tr>\n",
       "      <th>2005</th>\n",
       "      <td>BNA0274</td>\n",
       "      <td>Stadtwerke Flensburg GmbH</td>\n",
       "      <td>Heizkraftwerk FL</td>\n",
       "      <td>24939</td>\n",
       "      <td>Flensburg</td>\n",
       "      <td>Batteriestr. 48</td>\n",
       "      <td>Schleswig-Holstein</td>\n",
       "      <td>Block 7</td>\n",
       "      <td>1978</td>\n",
       "      <td>Endgültig Stillgelegt 2016 (mit StA)</td>\n",
       "      <td>Steinkohle</td>\n",
       "      <td>ja</td>\n",
       "      <td>23</td>\n",
       "    </tr>\n",
       "  </tbody>\n",
       "</table>\n",
       "</div>"
      ],
      "text/plain": [
       "      BlockID                Unternehmen    Kraftwerksname    PLZ        Ort  \\\n",
       "436   BNA1819  Stadtwerke Flensburg GmbH  Heizkraftwerk FL  24939  Flensburg   \n",
       "437   BNA0270  Stadtwerke Flensburg GmbH  Heizkraftwerk FL  24939  Flensburg   \n",
       "438   BNA0271  Stadtwerke Flensburg GmbH  Heizkraftwerk FL  24939  Flensburg   \n",
       "439   BNA0272  Stadtwerke Flensburg GmbH  Heizkraftwerk FL  24939  Flensburg   \n",
       "2004  BNA0273  Stadtwerke Flensburg GmbH  Heizkraftwerk FL  24939  Flensburg   \n",
       "2005  BNA0274  Stadtwerke Flensburg GmbH  Heizkraftwerk FL  24939  Flensburg   \n",
       "\n",
       "     Straße und Hausnummer (Standort Kraftwerk)          Bundesland Blockname  \\\n",
       "436                             Batteriestr. 48  Schleswig-Holstein  Block 12   \n",
       "437                             Batteriestr. 48  Schleswig-Holstein  Block 11   \n",
       "438                             Batteriestr. 48  Schleswig-Holstein  Block 10   \n",
       "439                             Batteriestr. 48  Schleswig-Holstein   Block 9   \n",
       "2004                            Batteriestr. 48  Schleswig-Holstein   Block 8   \n",
       "2005                            Batteriestr. 48  Schleswig-Holstein   Block 7   \n",
       "\n",
       "     Inbetriebnahme                                Status Energieträger KWK  \\\n",
       "436            2016                            in Betrieb        Erdgas  Ja   \n",
       "437            1992                            in Betrieb    Steinkohle  ja   \n",
       "438            1988                            in Betrieb    Steinkohle  ja   \n",
       "439            1985                            in Betrieb    Steinkohle  ja   \n",
       "2004           1982  Endgültig Stillgelegt 2016 (mit StA)    Steinkohle  ja   \n",
       "2005           1978  Endgültig Stillgelegt 2016 (mit StA)    Steinkohle  ja   \n",
       "\n",
       "     Nettoleistung  \n",
       "436             75  \n",
       "437             27  \n",
       "438             29  \n",
       "439             33  \n",
       "2004            35  \n",
       "2005            23  "
      ]
     },
     "execution_count": 296,
     "metadata": {},
     "output_type": "execute_result"
    }
   ],
   "source": [
    "plz = \"24939\"\n",
    "gases.loc[gases.PLZ == plz]"
   ]
  },
  {
   "cell_type": "code",
   "execution_count": 8,
   "metadata": {},
   "outputs": [],
   "source": [
    "pl2 = pl1.rename(columns={ pl1.columns[0]: \"BlockID\", pl1.columns[3]: \"PLZ\", pl1.columns[4]: \"Ort\", pl1.columns[8]: \"Inbetriebnahme\", pl1.columns[9]: \"Status\", pl1.columns[15]: \"KWK\", pl1.columns[16]: \"Nettoleistung\"})\n",
    "#pl3 = pl2.rename(columns={ pl1.columns[1]: \"BlockID\" })"
   ]
  },
  {
   "cell_type": "code",
   "execution_count": 9,
   "metadata": {},
   "outputs": [],
   "source": [
    "pl2['Nettoleistung'] = pl2['Nettoleistung'].str.replace('.','')\n",
    "pl2['Nettoleistung'] = pl2['Nettoleistung'].str.replace(',','.')\n",
    "#pl2['Nettoleistung'] = pl2['Nettoleistung'].str.replace('\\n','')\n",
    "#pl2['Nettoleistung'] = pl2[pd.to_numeric(pl2[\"Nettoleistung\"])]\n",
    "#pl2['Nettoleistung'] = pl2['Nettoleistung'].str.replace(';','.')"
   ]
  },
  {
   "cell_type": "code",
   "execution_count": 10,
   "metadata": {},
   "outputs": [],
   "source": [
    "#pl2[] = pl2[pd.to_numeric(pl2[\"Nettoleistung\"])]\n",
    "pl2['Nettoleistung'] = pl2['Nettoleistung'].apply(pd.to_numeric)"
   ]
  },
  {
   "cell_type": "code",
   "execution_count": 11,
   "metadata": {},
   "outputs": [],
   "source": [
    "# pl2"
   ]
  },
  {
   "cell_type": "code",
   "execution_count": 12,
   "metadata": {},
   "outputs": [],
   "source": [
    "cols = [10, 11,12,14,17,18,19]\n",
    "pl3 = pl2.drop(pl2.columns[cols],axis=1)"
   ]
  },
  {
   "cell_type": "code",
   "execution_count": 13,
   "metadata": {},
   "outputs": [],
   "source": [
    "# pl3"
   ]
  },
  {
   "cell_type": "code",
   "execution_count": 14,
   "metadata": {},
   "outputs": [],
   "source": [
    "# Status: endgültig stillgelegt, vorläufig stillgelegt, in Betrieb, Sicherheitsbereitschaft, Sonderfall, \n",
    "# Stillegung: [Jahreszahl]\n",
    "# StA: ja/ nein"
   ]
  },
  {
   "cell_type": "code",
   "execution_count": 15,
   "metadata": {},
   "outputs": [],
   "source": [
    "newdf = pd.DataFrame()"
   ]
  },
  {
   "cell_type": "code",
   "execution_count": 16,
   "metadata": {},
   "outputs": [],
   "source": [
    "def generate_decom_tuple(state):\n",
    "    if state == \"In Betrieb\":\n",
    "        return(\"in Betrieb\", \"0\")\n",
    "    elif \"Endgültig Stillgelegt\" in state:\n",
    "        a = \"stillgelegt\"\n",
    "        b = str(int(state[22:26]))\n",
    "        return (a, b)\n",
    "    elif \"Vorläufig Stillgelegt\" in state:\n",
    "        a = \"vorläufig stillgelegt\"\n",
    "        return (a, \"0\")\n",
    "    else:\n",
    "        return(state, \"0\")"
   ]
  },
  {
   "cell_type": "code",
   "execution_count": 17,
   "metadata": {},
   "outputs": [],
   "source": [
    "def fix_company(company):\n",
    "    cmp = company\n",
    "    company_prefix, _ = company.split(\" \" , 1)\n",
    "    # company_dict = {}\n",
    "    company_dict = {\"RWE\": \"RWE AG\", \"Vattenfall\": \"Vattenfall GmbH\", \"Uniper\": \"Uniper SE\", \"EnBW\": \"EnBW AG\", \"Steag\": \"Steag GmbH\", \"Nordzucker\": \"Nordzucker AG\"}\n",
    "    try:\n",
    "        cmp = company_dict[company_prefix]\n",
    "    except KeyError:\n",
    "        return company\n",
    "    return cmp"
   ]
  },
  {
   "cell_type": "code",
   "execution_count": 18,
   "metadata": {},
   "outputs": [],
   "source": [
    "for index, row in pl3.iterrows():\n",
    "    #if row['Status'] == \"Endgültig Stillgelegt 2016 (mit StA)\":\n",
    "    # print(row)\n",
    "    if row['KWK'] == \"nein\":\n",
    "        row['KWK'] = \"Nein\" # workaround for BoA plants\n",
    "    status, stilllegung = generate_decom_tuple(row['Status'])\n",
    "    cmp = fix_company(row['Unternehmen'])\n",
    "    row['Unternehmen'] = cmp\n",
    "    row['Status'] = status\n",
    "    row['Stilllegung'] = stilllegung\n",
    "    newdf = newdf.append(row)\n",
    "    "
   ]
  },
  {
   "cell_type": "code",
   "execution_count": 19,
   "metadata": {},
   "outputs": [],
   "source": [
    "# newdf['Stilllegung'] = newdf['Stilllegung'].astype(int)\n",
    "#newdf['Stilllegung'] = newdf['Stilllegung'].apply(lambda x: int(x) if x == x else None)"
   ]
  },
  {
   "cell_type": "code",
   "execution_count": 20,
   "metadata": {},
   "outputs": [],
   "source": [
    "newdf['Stilllegung'] = newdf['Stilllegung'].replace(\"0\", np.nan)"
   ]
  },
  {
   "cell_type": "code",
   "execution_count": 21,
   "metadata": {},
   "outputs": [],
   "source": [
    "pl3 = newdf"
   ]
  },
  {
   "cell_type": "code",
   "execution_count": 22,
   "metadata": {},
   "outputs": [],
   "source": [
    "atest = newdf.groupby([\"Unternehmen\"]).count()\n",
    "atest.sort_values(\"BlockID\", inplace=True, ascending=False)"
   ]
  },
  {
   "cell_type": "code",
   "execution_count": 23,
   "metadata": {},
   "outputs": [
    {
     "name": "stdout",
     "output_type": "stream",
     "text": [
      "                                                    BlockID  Blockname  \\\n",
      "Unternehmen                                                              \n",
      "RWE AG                                                   68         67   \n",
      "Vattenfall GmbH                                          41         41   \n",
      "Uniper SE                                                29         25   \n",
      "EnBW AG                                                  22         22   \n",
      "Steag GmbH                                               10         10   \n",
      "SWM Services GmbH                                         9          9   \n",
      "RheinEnergie AG                                           7          7   \n",
      "Volkswagen AG                                             7          5   \n",
      "Evonik Degussa GmbH                                       7          6   \n",
      "Statkraft Markets GmbH                                    6          4   \n",
      "Stadtwerke Flensburg GmbH                                 6          6   \n",
      "K+S AG                                                    6          6   \n",
      "Grosskraftwerk Mannheim AG                                6          6   \n",
      "Stadtwerke Hannover AG                                    5          5   \n",
      "Stadtwerke Düsseldorf AG                                  5          5   \n",
      "E.ON Kernkraft GmbH                                       5          5   \n",
      "Pfeifer & Langen Kommanditgesellschaft                    5          5   \n",
      "Mainova AG                                                5          5   \n",
      "Stadtwerke Duisburg AG                                    4          4   \n",
      "Prinovis Ltd. & Co. KG                                    4          0   \n",
      "Nordzucker AG                                             4          0   \n",
      "Heizkraftwerk Würzburg GmbH                               4          4   \n",
      "swb Erzeugung GmbH & Co. KG                               4          4   \n",
      "Currenta GmbH & Co. OHG                                   4          0   \n",
      "Braunschweiger Versorgungs-AG & Co. KG                    4          4   \n",
      "Cargill Deutschland GmbH                                  3          3   \n",
      "Martinswerk GmbH                                          3          3   \n",
      "InfraLeuna GmbH                                           3          2   \n",
      "Mitteldeutsche Braunkohlengesellschaft mbH                3          0   \n",
      "UPM GmbH                                                  3          3   \n",
      "...                                                     ...        ...   \n",
      "Heizkraftwerk Halle-Trotha GmbH                           1          1   \n",
      "Helmstedter Revier GmbH                                   1          1   \n",
      "Henkel AG & Co.KGaA                                       1          0   \n",
      "Reno De Medici Arnsberg GmbH                              1          1   \n",
      "ROMONTA GmbH                                              1          0   \n",
      "CropEnergies Bioethanol GmbH Zeitz                        1          0   \n",
      "Papierfabrik Albbruck GmbH                                1          0   \n",
      "DREWAG Stadtwerke Dresden GmbH                            1          1   \n",
      "Molkerei MEGGLE Wasserburg GmbH & Co. KG                  1          0   \n",
      "Mohn Media Mohndruck GmbH                                 1          0   \n",
      "Michelin Reifenwerke AG & Co. KGaA \\nStandort B...        1          0   \n",
      "Metsä Tissue GmbH Werk Düren                              1          0   \n",
      "Merck KGaA                                                1          1   \n",
      "Mark-E AG / Statkraft Markets GmbH                        1          1   \n",
      "Kübler & Niethammer Papierfabrik Kriebstein AG            1          1   \n",
      "Kronos Titan GmbH                                         1          0   \n",
      "Kraftwerk Dessau GmbH                                     1          0   \n",
      "Koehler SE                                                1          0   \n",
      "Kernkraftwerke Lippe-Ems GmbH (KLE)                       1          1   \n",
      "Kernkraftwerk Gundremmingen GmbH (KGG)                    1          1   \n",
      "KGW - Kraftwerk Grenzach-Wyhlen GmbH                      1          0   \n",
      "DREWSEN SPEZIALPAPIERE GmbH & Co.KG                       1          0   \n",
      "InfraServ GmbH & Co. Wiesbaden KG                         1          1   \n",
      "InfraServ GmbH & Co. Gendorf KG                           1          0   \n",
      "InfraLeuna GmbH/TOTAL Raffinerie Mitteldeutschl...        1          1   \n",
      "Industriekraftwerk Greifswald GmbH                        1          0   \n",
      "Industriekraftwerk Breuberg GmbH /\\nPirelli Deu...        1          0   \n",
      "INEOS Solvents Germany GmbH                               1          1   \n",
      "ADM Hamburg Aktiengesellschaft                            1          1   \n",
      "Nicht-EEG-Anlagen < 10 MW                                 0          0   \n",
      "\n",
      "                                                    Bundesland  Energieträger  \\\n",
      "Unternehmen                                                                     \n",
      "RWE AG                                                      68             68   \n",
      "Vattenfall GmbH                                             41             41   \n",
      "Uniper SE                                                   29             29   \n",
      "EnBW AG                                                     22             22   \n",
      "Steag GmbH                                                  10             10   \n",
      "SWM Services GmbH                                            9              9   \n",
      "RheinEnergie AG                                              7              7   \n",
      "Volkswagen AG                                                7              7   \n",
      "Evonik Degussa GmbH                                          7              7   \n",
      "Statkraft Markets GmbH                                       6              6   \n",
      "Stadtwerke Flensburg GmbH                                    6              6   \n",
      "K+S AG                                                       6              6   \n",
      "Grosskraftwerk Mannheim AG                                   6              6   \n",
      "Stadtwerke Hannover AG                                       5              5   \n",
      "Stadtwerke Düsseldorf AG                                     5              5   \n",
      "E.ON Kernkraft GmbH                                          5              5   \n",
      "Pfeifer & Langen Kommanditgesellschaft                       5              5   \n",
      "Mainova AG                                                   5              5   \n",
      "Stadtwerke Duisburg AG                                       4              4   \n",
      "Prinovis Ltd. & Co. KG                                       4              4   \n",
      "Nordzucker AG                                                4              4   \n",
      "Heizkraftwerk Würzburg GmbH                                  4              4   \n",
      "swb Erzeugung GmbH & Co. KG                                  4              4   \n",
      "Currenta GmbH & Co. OHG                                      4              4   \n",
      "Braunschweiger Versorgungs-AG & Co. KG                       4              4   \n",
      "Cargill Deutschland GmbH                                     3              3   \n",
      "Martinswerk GmbH                                             3              3   \n",
      "InfraLeuna GmbH                                              3              3   \n",
      "Mitteldeutsche Braunkohlengesellschaft mbH                   3              3   \n",
      "UPM GmbH                                                     3              3   \n",
      "...                                                        ...            ...   \n",
      "Heizkraftwerk Halle-Trotha GmbH                              1              1   \n",
      "Helmstedter Revier GmbH                                      1              1   \n",
      "Henkel AG & Co.KGaA                                          1              1   \n",
      "Reno De Medici Arnsberg GmbH                                 1              1   \n",
      "ROMONTA GmbH                                                 1              1   \n",
      "CropEnergies Bioethanol GmbH Zeitz                           1              1   \n",
      "Papierfabrik Albbruck GmbH                                   1              1   \n",
      "DREWAG Stadtwerke Dresden GmbH                               1              1   \n",
      "Molkerei MEGGLE Wasserburg GmbH & Co. KG                     1              1   \n",
      "Mohn Media Mohndruck GmbH                                    1              1   \n",
      "Michelin Reifenwerke AG & Co. KGaA \\nStandort B...           1              1   \n",
      "Metsä Tissue GmbH Werk Düren                                 1              1   \n",
      "Merck KGaA                                                   1              1   \n",
      "Mark-E AG / Statkraft Markets GmbH                           1              1   \n",
      "Kübler & Niethammer Papierfabrik Kriebstein AG               1              1   \n",
      "Kronos Titan GmbH                                            1              1   \n",
      "Kraftwerk Dessau GmbH                                        1              1   \n",
      "Koehler SE                                                   1              1   \n",
      "Kernkraftwerke Lippe-Ems GmbH (KLE)                          1              1   \n",
      "Kernkraftwerk Gundremmingen GmbH (KGG)                       1              1   \n",
      "KGW - Kraftwerk Grenzach-Wyhlen GmbH                         1              1   \n",
      "DREWSEN SPEZIALPAPIERE GmbH & Co.KG                          1              1   \n",
      "InfraServ GmbH & Co. Wiesbaden KG                            1              1   \n",
      "InfraServ GmbH & Co. Gendorf KG                              1              1   \n",
      "InfraLeuna GmbH/TOTAL Raffinerie Mitteldeutschl...           1              1   \n",
      "Industriekraftwerk Greifswald GmbH                           1              1   \n",
      "Industriekraftwerk Breuberg GmbH /\\nPirelli Deu...           1              1   \n",
      "INEOS Solvents Germany GmbH                                  1              1   \n",
      "ADM Hamburg Aktiengesellschaft                               1              1   \n",
      "Nicht-EEG-Anlagen < 10 MW                                    3              3   \n",
      "\n",
      "                                                    Inbetriebnahme  KWK  \\\n",
      "Unternehmen                                                               \n",
      "RWE AG                                                          68   68   \n",
      "Vattenfall GmbH                                                 41   40   \n",
      "Uniper SE                                                       29   29   \n",
      "EnBW AG                                                         22   22   \n",
      "Steag GmbH                                                      10   10   \n",
      "SWM Services GmbH                                                9    9   \n",
      "RheinEnergie AG                                                  7    7   \n",
      "Volkswagen AG                                                    7    7   \n",
      "Evonik Degussa GmbH                                              7    7   \n",
      "Statkraft Markets GmbH                                           6    6   \n",
      "Stadtwerke Flensburg GmbH                                        6    6   \n",
      "K+S AG                                                           6    6   \n",
      "Grosskraftwerk Mannheim AG                                       6    6   \n",
      "Stadtwerke Hannover AG                                           5    5   \n",
      "Stadtwerke Düsseldorf AG                                         5    5   \n",
      "E.ON Kernkraft GmbH                                              5    5   \n",
      "Pfeifer & Langen Kommanditgesellschaft                           5    5   \n",
      "Mainova AG                                                       5    5   \n",
      "Stadtwerke Duisburg AG                                           4    4   \n",
      "Prinovis Ltd. & Co. KG                                           4    4   \n",
      "Nordzucker AG                                                    4    4   \n",
      "Heizkraftwerk Würzburg GmbH                                      4    4   \n",
      "swb Erzeugung GmbH & Co. KG                                      4    4   \n",
      "Currenta GmbH & Co. OHG                                          4    4   \n",
      "Braunschweiger Versorgungs-AG & Co. KG                           4    4   \n",
      "Cargill Deutschland GmbH                                         3    3   \n",
      "Martinswerk GmbH                                                 3    3   \n",
      "InfraLeuna GmbH                                                  3    3   \n",
      "Mitteldeutsche Braunkohlengesellschaft mbH                       3    3   \n",
      "UPM GmbH                                                         3    3   \n",
      "...                                                            ...  ...   \n",
      "Heizkraftwerk Halle-Trotha GmbH                                  1    1   \n",
      "Helmstedter Revier GmbH                                          1    1   \n",
      "Henkel AG & Co.KGaA                                              1    1   \n",
      "Reno De Medici Arnsberg GmbH                                     1    1   \n",
      "ROMONTA GmbH                                                     1    1   \n",
      "CropEnergies Bioethanol GmbH Zeitz                               1    1   \n",
      "Papierfabrik Albbruck GmbH                                       1    1   \n",
      "DREWAG Stadtwerke Dresden GmbH                                   1    1   \n",
      "Molkerei MEGGLE Wasserburg GmbH & Co. KG                         1    1   \n",
      "Mohn Media Mohndruck GmbH                                        1    1   \n",
      "Michelin Reifenwerke AG & Co. KGaA \\nStandort B...               1    1   \n",
      "Metsä Tissue GmbH Werk Düren                                     1    1   \n",
      "Merck KGaA                                                       1    1   \n",
      "Mark-E AG / Statkraft Markets GmbH                               1    1   \n",
      "Kübler & Niethammer Papierfabrik Kriebstein AG                   1    1   \n",
      "Kronos Titan GmbH                                                1    1   \n",
      "Kraftwerk Dessau GmbH                                            1    1   \n",
      "Koehler SE                                                       1    1   \n",
      "Kernkraftwerke Lippe-Ems GmbH (KLE)                              1    1   \n",
      "Kernkraftwerk Gundremmingen GmbH (KGG)                           1    1   \n",
      "KGW - Kraftwerk Grenzach-Wyhlen GmbH                             1    1   \n",
      "DREWSEN SPEZIALPAPIERE GmbH & Co.KG                              1    1   \n",
      "InfraServ GmbH & Co. Wiesbaden KG                                1    1   \n",
      "InfraServ GmbH & Co. Gendorf KG                                  1    1   \n",
      "InfraLeuna GmbH/TOTAL Raffinerie Mitteldeutschl...               1    1   \n",
      "Industriekraftwerk Greifswald GmbH                               1    1   \n",
      "Industriekraftwerk Breuberg GmbH /\\nPirelli Deu...               1    1   \n",
      "INEOS Solvents Germany GmbH                                      1    1   \n",
      "ADM Hamburg Aktiengesellschaft                                   1    1   \n",
      "Nicht-EEG-Anlagen < 10 MW                                        0    0   \n",
      "\n",
      "                                                    Kraftwerksname  \\\n",
      "Unternehmen                                                          \n",
      "RWE AG                                                          68   \n",
      "Vattenfall GmbH                                                 41   \n",
      "Uniper SE                                                       29   \n",
      "EnBW AG                                                         22   \n",
      "Steag GmbH                                                      10   \n",
      "SWM Services GmbH                                                9   \n",
      "RheinEnergie AG                                                  7   \n",
      "Volkswagen AG                                                    7   \n",
      "Evonik Degussa GmbH                                              7   \n",
      "Statkraft Markets GmbH                                           6   \n",
      "Stadtwerke Flensburg GmbH                                        6   \n",
      "K+S AG                                                           6   \n",
      "Grosskraftwerk Mannheim AG                                       6   \n",
      "Stadtwerke Hannover AG                                           5   \n",
      "Stadtwerke Düsseldorf AG                                         5   \n",
      "E.ON Kernkraft GmbH                                              5   \n",
      "Pfeifer & Langen Kommanditgesellschaft                           5   \n",
      "Mainova AG                                                       5   \n",
      "Stadtwerke Duisburg AG                                           4   \n",
      "Prinovis Ltd. & Co. KG                                           4   \n",
      "Nordzucker AG                                                    4   \n",
      "Heizkraftwerk Würzburg GmbH                                      4   \n",
      "swb Erzeugung GmbH & Co. KG                                      4   \n",
      "Currenta GmbH & Co. OHG                                          4   \n",
      "Braunschweiger Versorgungs-AG & Co. KG                           4   \n",
      "Cargill Deutschland GmbH                                         3   \n",
      "Martinswerk GmbH                                                 3   \n",
      "InfraLeuna GmbH                                                  3   \n",
      "Mitteldeutsche Braunkohlengesellschaft mbH                       3   \n",
      "UPM GmbH                                                         3   \n",
      "...                                                            ...   \n",
      "Heizkraftwerk Halle-Trotha GmbH                                  1   \n",
      "Helmstedter Revier GmbH                                          1   \n",
      "Henkel AG & Co.KGaA                                              1   \n",
      "Reno De Medici Arnsberg GmbH                                     1   \n",
      "ROMONTA GmbH                                                     1   \n",
      "CropEnergies Bioethanol GmbH Zeitz                               0   \n",
      "Papierfabrik Albbruck GmbH                                       1   \n",
      "DREWAG Stadtwerke Dresden GmbH                                   1   \n",
      "Molkerei MEGGLE Wasserburg GmbH & Co. KG                         1   \n",
      "Mohn Media Mohndruck GmbH                                        1   \n",
      "Michelin Reifenwerke AG & Co. KGaA \\nStandort B...               0   \n",
      "Metsä Tissue GmbH Werk Düren                                     1   \n",
      "Merck KGaA                                                       1   \n",
      "Mark-E AG / Statkraft Markets GmbH                               1   \n",
      "Kübler & Niethammer Papierfabrik Kriebstein AG                   1   \n",
      "Kronos Titan GmbH                                                0   \n",
      "Kraftwerk Dessau GmbH                                            1   \n",
      "Koehler SE                                                       0   \n",
      "Kernkraftwerke Lippe-Ems GmbH (KLE)                              1   \n",
      "Kernkraftwerk Gundremmingen GmbH (KGG)                           1   \n",
      "KGW - Kraftwerk Grenzach-Wyhlen GmbH                             1   \n",
      "DREWSEN SPEZIALPAPIERE GmbH & Co.KG                              1   \n",
      "InfraServ GmbH & Co. Wiesbaden KG                                1   \n",
      "InfraServ GmbH & Co. Gendorf KG                                  1   \n",
      "InfraLeuna GmbH/TOTAL Raffinerie Mitteldeutschl...               1   \n",
      "Industriekraftwerk Greifswald GmbH                               1   \n",
      "Industriekraftwerk Breuberg GmbH /\\nPirelli Deu...               1   \n",
      "INEOS Solvents Germany GmbH                                      1   \n",
      "ADM Hamburg Aktiengesellschaft                                   1   \n",
      "Nicht-EEG-Anlagen < 10 MW                                        0   \n",
      "\n",
      "                                                    Nettoleistung  Ort  PLZ  \\\n",
      "Unternehmen                                                                   \n",
      "RWE AG                                                         68   68   68   \n",
      "Vattenfall GmbH                                                41   41   41   \n",
      "Uniper SE                                                      29   29   29   \n",
      "EnBW AG                                                        22   22   22   \n",
      "Steag GmbH                                                     10   10   10   \n",
      "SWM Services GmbH                                               9    9    9   \n",
      "RheinEnergie AG                                                 7    7    7   \n",
      "Volkswagen AG                                                   7    7    7   \n",
      "Evonik Degussa GmbH                                             7    7    7   \n",
      "Statkraft Markets GmbH                                          6    6    6   \n",
      "Stadtwerke Flensburg GmbH                                       6    6    6   \n",
      "K+S AG                                                          6    6    6   \n",
      "Grosskraftwerk Mannheim AG                                      6    6    6   \n",
      "Stadtwerke Hannover AG                                          5    5    5   \n",
      "Stadtwerke Düsseldorf AG                                        5    5    5   \n",
      "E.ON Kernkraft GmbH                                             5    5    5   \n",
      "Pfeifer & Langen Kommanditgesellschaft                          5    5    5   \n",
      "Mainova AG                                                      5    5    5   \n",
      "Stadtwerke Duisburg AG                                          4    4    4   \n",
      "Prinovis Ltd. & Co. KG                                          4    4    4   \n",
      "Nordzucker AG                                                   4    4    4   \n",
      "Heizkraftwerk Würzburg GmbH                                     4    4    4   \n",
      "swb Erzeugung GmbH & Co. KG                                     4    4    4   \n",
      "Currenta GmbH & Co. OHG                                         4    4    4   \n",
      "Braunschweiger Versorgungs-AG & Co. KG                          4    4    4   \n",
      "Cargill Deutschland GmbH                                        3    3    3   \n",
      "Martinswerk GmbH                                                3    3    3   \n",
      "InfraLeuna GmbH                                                 3    3    3   \n",
      "Mitteldeutsche Braunkohlengesellschaft mbH                      3    3    3   \n",
      "UPM GmbH                                                        3    3    3   \n",
      "...                                                           ...  ...  ...   \n",
      "Heizkraftwerk Halle-Trotha GmbH                                 1    1    1   \n",
      "Helmstedter Revier GmbH                                         1    1    1   \n",
      "Henkel AG & Co.KGaA                                             1    1    1   \n",
      "Reno De Medici Arnsberg GmbH                                    1    1    1   \n",
      "ROMONTA GmbH                                                    1    1    1   \n",
      "CropEnergies Bioethanol GmbH Zeitz                              1    1    1   \n",
      "Papierfabrik Albbruck GmbH                                      1    1    1   \n",
      "DREWAG Stadtwerke Dresden GmbH                                  1    1    1   \n",
      "Molkerei MEGGLE Wasserburg GmbH & Co. KG                        1    1    1   \n",
      "Mohn Media Mohndruck GmbH                                       1    1    1   \n",
      "Michelin Reifenwerke AG & Co. KGaA \\nStandort B...              1    1    1   \n",
      "Metsä Tissue GmbH Werk Düren                                    1    1    1   \n",
      "Merck KGaA                                                      1    1    1   \n",
      "Mark-E AG / Statkraft Markets GmbH                              1    1    1   \n",
      "Kübler & Niethammer Papierfabrik Kriebstein AG                  1    1    1   \n",
      "Kronos Titan GmbH                                               1    1    1   \n",
      "Kraftwerk Dessau GmbH                                           1    1    1   \n",
      "Koehler SE                                                      1    1    1   \n",
      "Kernkraftwerke Lippe-Ems GmbH (KLE)                             1    1    1   \n",
      "Kernkraftwerk Gundremmingen GmbH (KGG)                          1    1    1   \n",
      "KGW - Kraftwerk Grenzach-Wyhlen GmbH                            1    1    1   \n",
      "DREWSEN SPEZIALPAPIERE GmbH & Co.KG                             1    1    1   \n",
      "InfraServ GmbH & Co. Wiesbaden KG                               1    1    1   \n",
      "InfraServ GmbH & Co. Gendorf KG                                 1    1    1   \n",
      "InfraLeuna GmbH/TOTAL Raffinerie Mitteldeutschl...              1    1    1   \n",
      "Industriekraftwerk Greifswald GmbH                              1    1    1   \n",
      "Industriekraftwerk Breuberg GmbH /\\nPirelli Deu...              1    1    1   \n",
      "INEOS Solvents Germany GmbH                                     1    1    1   \n",
      "ADM Hamburg Aktiengesellschaft                                  1    1    1   \n",
      "Nicht-EEG-Anlagen < 10 MW                                       3    0    0   \n",
      "\n",
      "                                                    Status  Stilllegung  \\\n",
      "Unternehmen                                                               \n",
      "RWE AG                                                  68           18   \n",
      "Vattenfall GmbH                                         41            4   \n",
      "Uniper SE                                               29           14   \n",
      "EnBW AG                                                 22            1   \n",
      "Steag GmbH                                              10            2   \n",
      "SWM Services GmbH                                        9            2   \n",
      "RheinEnergie AG                                          7            0   \n",
      "Volkswagen AG                                            7            1   \n",
      "Evonik Degussa GmbH                                      7            0   \n",
      "Statkraft Markets GmbH                                   6            0   \n",
      "Stadtwerke Flensburg GmbH                                6            2   \n",
      "K+S AG                                                   6            0   \n",
      "Grosskraftwerk Mannheim AG                               6            2   \n",
      "Stadtwerke Hannover AG                                   5            0   \n",
      "Stadtwerke Düsseldorf AG                                 5            0   \n",
      "E.ON Kernkraft GmbH                                      5            1   \n",
      "Pfeifer & Langen Kommanditgesellschaft                   5            0   \n",
      "Mainova AG                                               5            0   \n",
      "Stadtwerke Duisburg AG                                   4            1   \n",
      "Prinovis Ltd. & Co. KG                                   4            0   \n",
      "Nordzucker AG                                            4            0   \n",
      "Heizkraftwerk Würzburg GmbH                              4            0   \n",
      "swb Erzeugung GmbH & Co. KG                              4            0   \n",
      "Currenta GmbH & Co. OHG                                  4            0   \n",
      "Braunschweiger Versorgungs-AG & Co. KG                   4            0   \n",
      "Cargill Deutschland GmbH                                 3            0   \n",
      "Martinswerk GmbH                                         3            0   \n",
      "InfraLeuna GmbH                                          3            0   \n",
      "Mitteldeutsche Braunkohlengesellschaft mbH               3            1   \n",
      "UPM GmbH                                                 3            0   \n",
      "...                                                    ...          ...   \n",
      "Heizkraftwerk Halle-Trotha GmbH                          1            0   \n",
      "Helmstedter Revier GmbH                                  1            0   \n",
      "Henkel AG & Co.KGaA                                      1            0   \n",
      "Reno De Medici Arnsberg GmbH                             1            0   \n",
      "ROMONTA GmbH                                             1            0   \n",
      "CropEnergies Bioethanol GmbH Zeitz                       1            0   \n",
      "Papierfabrik Albbruck GmbH                               1            1   \n",
      "DREWAG Stadtwerke Dresden GmbH                           1            0   \n",
      "Molkerei MEGGLE Wasserburg GmbH & Co. KG                 1            0   \n",
      "Mohn Media Mohndruck GmbH                                1            0   \n",
      "Michelin Reifenwerke AG & Co. KGaA \\nStandort B...       1            0   \n",
      "Metsä Tissue GmbH Werk Düren                             1            0   \n",
      "Merck KGaA                                               1            0   \n",
      "Mark-E AG / Statkraft Markets GmbH                       1            0   \n",
      "Kübler & Niethammer Papierfabrik Kriebstein AG           1            0   \n",
      "Kronos Titan GmbH                                        1            0   \n",
      "Kraftwerk Dessau GmbH                                    1            0   \n",
      "Koehler SE                                               1            0   \n",
      "Kernkraftwerke Lippe-Ems GmbH (KLE)                      1            0   \n",
      "Kernkraftwerk Gundremmingen GmbH (KGG)                   1            0   \n",
      "KGW - Kraftwerk Grenzach-Wyhlen GmbH                     1            0   \n",
      "DREWSEN SPEZIALPAPIERE GmbH & Co.KG                      1            0   \n",
      "InfraServ GmbH & Co. Wiesbaden KG                        1            0   \n",
      "InfraServ GmbH & Co. Gendorf KG                          1            0   \n",
      "InfraLeuna GmbH/TOTAL Raffinerie Mitteldeutschl...       1            0   \n",
      "Industriekraftwerk Greifswald GmbH                       1            0   \n",
      "Industriekraftwerk Breuberg GmbH /\\nPirelli Deu...       1            0   \n",
      "INEOS Solvents Germany GmbH                              1            0   \n",
      "ADM Hamburg Aktiengesellschaft                           1            0   \n",
      "Nicht-EEG-Anlagen < 10 MW                                3            0   \n",
      "\n",
      "                                                    Straße und Hausnummer (Standort Kraftwerk)  \n",
      "Unternehmen                                                                                     \n",
      "RWE AG                                                                                       3  \n",
      "Vattenfall GmbH                                                                             32  \n",
      "Uniper SE                                                                                    0  \n",
      "EnBW AG                                                                                     22  \n",
      "Steag GmbH                                                                                  10  \n",
      "SWM Services GmbH                                                                            0  \n",
      "RheinEnergie AG                                                                              0  \n",
      "Volkswagen AG                                                                                1  \n",
      "Evonik Degussa GmbH                                                                          7  \n",
      "Statkraft Markets GmbH                                                                       0  \n",
      "Stadtwerke Flensburg GmbH                                                                    6  \n",
      "K+S AG                                                                                       0  \n",
      "Grosskraftwerk Mannheim AG                                                                   6  \n",
      "Stadtwerke Hannover AG                                                                       0  \n",
      "Stadtwerke Düsseldorf AG                                                                     5  \n",
      "E.ON Kernkraft GmbH                                                                          0  \n",
      "Pfeifer & Langen Kommanditgesellschaft                                                       5  \n",
      "Mainova AG                                                                                   5  \n",
      "Stadtwerke Duisburg AG                                                                       4  \n",
      "Prinovis Ltd. & Co. KG                                                                       4  \n",
      "Nordzucker AG                                                                                4  \n",
      "Heizkraftwerk Würzburg GmbH                                                                  4  \n",
      "swb Erzeugung GmbH & Co. KG                                                                  4  \n",
      "Currenta GmbH & Co. OHG                                                                      4  \n",
      "Braunschweiger Versorgungs-AG & Co. KG                                                       0  \n",
      "Cargill Deutschland GmbH                                                                     3  \n",
      "Martinswerk GmbH                                                                             3  \n",
      "InfraLeuna GmbH                                                                              0  \n",
      "Mitteldeutsche Braunkohlengesellschaft mbH                                                   0  \n",
      "UPM GmbH                                                                                     3  \n",
      "...                                                                                        ...  \n",
      "Heizkraftwerk Halle-Trotha GmbH                                                              0  \n",
      "Helmstedter Revier GmbH                                                                      0  \n",
      "Henkel AG & Co.KGaA                                                                          1  \n",
      "Reno De Medici Arnsberg GmbH                                                                 1  \n",
      "ROMONTA GmbH                                                                                 1  \n",
      "CropEnergies Bioethanol GmbH Zeitz                                                           1  \n",
      "Papierfabrik Albbruck GmbH                                                                   0  \n",
      "DREWAG Stadtwerke Dresden GmbH                                                               1  \n",
      "Molkerei MEGGLE Wasserburg GmbH & Co. KG                                                     1  \n",
      "Mohn Media Mohndruck GmbH                                                                    1  \n",
      "Michelin Reifenwerke AG & Co. KGaA \\nStandort B...                                           1  \n",
      "Metsä Tissue GmbH Werk Düren                                                                 1  \n",
      "Merck KGaA                                                                                   1  \n",
      "Mark-E AG / Statkraft Markets GmbH                                                           0  \n",
      "Kübler & Niethammer Papierfabrik Kriebstein AG                                               1  \n",
      "Kronos Titan GmbH                                                                            0  \n",
      "Kraftwerk Dessau GmbH                                                                        0  \n",
      "Koehler SE                                                                                   1  \n",
      "Kernkraftwerke Lippe-Ems GmbH (KLE)                                                          0  \n",
      "Kernkraftwerk Gundremmingen GmbH (KGG)                                                       0  \n",
      "KGW - Kraftwerk Grenzach-Wyhlen GmbH                                                         0  \n",
      "DREWSEN SPEZIALPAPIERE GmbH & Co.KG                                                          1  \n",
      "InfraServ GmbH & Co. Wiesbaden KG                                                            0  \n",
      "InfraServ GmbH & Co. Gendorf KG                                                              0  \n",
      "InfraLeuna GmbH/TOTAL Raffinerie Mitteldeutschl...                                           0  \n",
      "Industriekraftwerk Greifswald GmbH                                                           0  \n",
      "Industriekraftwerk Breuberg GmbH /\\nPirelli Deu...                                           1  \n",
      "INEOS Solvents Germany GmbH                                                                  1  \n",
      "ADM Hamburg Aktiengesellschaft                                                               1  \n",
      "Nicht-EEG-Anlagen < 10 MW                                                                    0  \n",
      "\n",
      "[179 rows x 13 columns]\n"
     ]
    }
   ],
   "source": [
    "print(atest)"
   ]
  },
  {
   "cell_type": "code",
   "execution_count": 24,
   "metadata": {},
   "outputs": [],
   "source": [
    "atest = pl3.groupby([\"Status\"]).count()\n",
    "# atest"
   ]
  },
  {
   "cell_type": "code",
   "execution_count": 25,
   "metadata": {
    "scrolled": false
   },
   "outputs": [],
   "source": [
    "# pl3.rename(columns={ pl3.columns[10]: \"Energieträger\"}, inplace=True)"
   ]
  },
  {
   "cell_type": "code",
   "execution_count": 26,
   "metadata": {},
   "outputs": [],
   "source": [
    "pl4 = bm.merge(pl3, how=\"outer\", on=\"BlockID\")"
   ]
  },
  {
   "cell_type": "code",
   "execution_count": 27,
   "metadata": {},
   "outputs": [],
   "source": [
    "pl5 = pl4[pd.notnull(pl4['BlockID'])]\n",
    "#pl5 = pl4\n",
    "pl6 = pl5[pd.notnull(pl5['Nettoleistung'])]"
   ]
  },
  {
   "cell_type": "code",
   "execution_count": 28,
   "metadata": {},
   "outputs": [],
   "source": [
    "# pl6"
   ]
  },
  {
   "cell_type": "code",
   "execution_count": 29,
   "metadata": {},
   "outputs": [],
   "source": [
    "blocks = pl6.copy()\n",
    "stammdaten = pl6.copy()"
   ]
  },
  {
   "cell_type": "code",
   "execution_count": 30,
   "metadata": {},
   "outputs": [],
   "source": [
    "blocks.sort_values(\"Nettoleistung\", inplace=True, ascending=False)\n",
    "# blocks"
   ]
  },
  {
   "cell_type": "code",
   "execution_count": 31,
   "metadata": {},
   "outputs": [],
   "source": [
    "plants = blocks.loc[:]\n",
    "plants = plants.dropna(subset=[\"KraftwerkID\"])"
   ]
  },
  {
   "cell_type": "code",
   "execution_count": 32,
   "metadata": {},
   "outputs": [],
   "source": [
    "plants_d = plants.loc[plants.duplicated(\"KraftwerkID\", keep=False)]\n",
    "# plants_d"
   ]
  },
  {
   "cell_type": "code",
   "execution_count": 33,
   "metadata": {},
   "outputs": [],
   "source": [
    "plants_c = plants_d.groupby([\"KraftwerkID\"]).sum()\n",
    "plants_count = plants_d.groupby([\"KraftwerkID\"]).count()"
   ]
  },
  {
   "cell_type": "code",
   "execution_count": 34,
   "metadata": {},
   "outputs": [],
   "source": [
    "plants_f = plants_c.reset_index()"
   ]
  },
  {
   "cell_type": "code",
   "execution_count": 35,
   "metadata": {},
   "outputs": [],
   "source": [
    "plants_count = plants_count.loc[:, [\"BlockID\"]]"
   ]
  },
  {
   "cell_type": "code",
   "execution_count": 36,
   "metadata": {},
   "outputs": [],
   "source": [
    "plants_count = plants_count.reset_index()\n",
    "# plants_count "
   ]
  },
  {
   "cell_type": "code",
   "execution_count": 37,
   "metadata": {},
   "outputs": [],
   "source": [
    "plants_f = plants_f.merge(plants_count, on=\"KraftwerkID\", how=\"inner\")\n",
    "# plants_f"
   ]
  },
  {
   "cell_type": "code",
   "execution_count": 38,
   "metadata": {},
   "outputs": [],
   "source": [
    "plants_a = plants.drop_duplicates(subset=\"KraftwerkID\")"
   ]
  },
  {
   "cell_type": "code",
   "execution_count": 39,
   "metadata": {},
   "outputs": [],
   "source": [
    "plants_b = plants_d.loc[:]"
   ]
  },
  {
   "cell_type": "code",
   "execution_count": 40,
   "metadata": {},
   "outputs": [],
   "source": [
    "plants_f = plants_f.rename(columns={ \"Nettoleistung\": \"Gesamtleistung\", \"BlockID\": \"Blockzahl\"})"
   ]
  },
  {
   "cell_type": "code",
   "execution_count": 41,
   "metadata": {},
   "outputs": [],
   "source": [
    "plants_f = plants_f.merge(plants_a, on=\"KraftwerkID\", how=\"left\")\n",
    "# plants_f"
   ]
  },
  {
   "cell_type": "code",
   "execution_count": 42,
   "metadata": {},
   "outputs": [],
   "source": [
    "blocks.drop_duplicates(subset=\"BlockID\", inplace=True)"
   ]
  },
  {
   "cell_type": "code",
   "execution_count": 43,
   "metadata": {},
   "outputs": [],
   "source": [
    "#cols = [4,5,6,8]\n",
    "#blocks.drop(blocks.columns[cols],axis=1, inplace=True)\n",
    "#test_blocks = blocks.drop(blocks.columns[cols],axis=1)"
   ]
  },
  {
   "cell_type": "code",
   "execution_count": 44,
   "metadata": {},
   "outputs": [],
   "source": [
    "blocks.drop(['Ort', 'PLZ', 'Straße und Hausnummer (Standort Kraftwerk)', 'Blockname'], axis=1, inplace=True)"
   ]
  },
  {
   "cell_type": "code",
   "execution_count": 45,
   "metadata": {},
   "outputs": [],
   "source": [
    "plants_f.sort_values(\"Gesamtleistung\", ascending=False, inplace=True)"
   ]
  },
  {
   "cell_type": "code",
   "execution_count": null,
   "metadata": {},
   "outputs": [],
   "source": []
  },
  {
   "cell_type": "code",
   "execution_count": 46,
   "metadata": {},
   "outputs": [],
   "source": [
    "drop_list = ['Blockname', 'KWK', 'Nettoleistung', 'Stilllegung', 'Straße und Hausnummer (Standort Kraftwerk)', 'PLZ', 'Ort', 'Nettoleistung']\n",
    "plants_g = plants_f.drop(drop_list, axis=1)"
   ]
  },
  {
   "cell_type": "code",
   "execution_count": 47,
   "metadata": {},
   "outputs": [],
   "source": [
    "plants_h = plants_g.rename(columns={\"KraftwerkID\": \"plantid\", \"Gesamtleistung\": \"totalpower\", \"Blockzahl\": \"blockcount\", \"BlockID\": \"blockid\", \"Bundesland\": \"federalstate\", \"Energieträger\": \"energysource\", \"Inbetriebnahme\": \"latestexpanded\", \"Kraftwerksname\": \"plantname\", \"Status\": \"state\", \"Unternehmen\": \"company\"})"
   ]
  },
  {
   "cell_type": "code",
   "execution_count": 48,
   "metadata": {},
   "outputs": [],
   "source": [
    "plants_h['latestexpanded'] = plants_h['latestexpanded'].astype(int)"
   ]
  },
  {
   "cell_type": "code",
   "execution_count": 49,
   "metadata": {},
   "outputs": [],
   "source": [
    "plants_i = plants_h[[\"plantid\", \"plantname\", \"federalstate\", \"energysource\", \"latestexpanded\", \"totalpower\", \"state\", \"blockcount\", \"blockid\", \"company\"]]"
   ]
  },
  {
   "cell_type": "code",
   "execution_count": 50,
   "metadata": {},
   "outputs": [
    {
     "data": {
      "text/plain": [
       "(35, 10)"
      ]
     },
     "execution_count": 50,
     "metadata": {},
     "output_type": "execute_result"
    }
   ],
   "source": [
    "plants_h.shape"
   ]
  },
  {
   "cell_type": "code",
   "execution_count": 51,
   "metadata": {},
   "outputs": [
    {
     "data": {
      "text/plain": [
       "(35, 10)"
      ]
     },
     "execution_count": 51,
     "metadata": {},
     "output_type": "execute_result"
    }
   ],
   "source": [
    "plants_i.shape"
   ]
  },
  {
   "cell_type": "code",
   "execution_count": 52,
   "metadata": {},
   "outputs": [
    {
     "data": {
      "text/plain": [
       "plantid            object\n",
       "totalpower        float64\n",
       "blockcount          int64\n",
       "blockid            object\n",
       "federalstate       object\n",
       "energysource       object\n",
       "latestexpanded      int64\n",
       "plantname          object\n",
       "state              object\n",
       "company            object\n",
       "dtype: object"
      ]
     },
     "execution_count": 52,
     "metadata": {},
     "output_type": "execute_result"
    }
   ],
   "source": [
    "plants_h.dtypes"
   ]
  },
  {
   "cell_type": "code",
   "execution_count": 53,
   "metadata": {},
   "outputs": [],
   "source": [
    "# plants_i"
   ]
  },
  {
   "cell_type": "code",
   "execution_count": 54,
   "metadata": {},
   "outputs": [],
   "source": [
    "# test_blocks"
   ]
  },
  {
   "cell_type": "code",
   "execution_count": 55,
   "metadata": {
    "scrolled": true
   },
   "outputs": [],
   "source": [
    "#blocks.loc[blocks.Energieträger == 'Erdgas',]"
   ]
  },
  {
   "cell_type": "code",
   "execution_count": null,
   "metadata": {},
   "outputs": [],
   "source": []
  },
  {
   "cell_type": "code",
   "execution_count": 56,
   "metadata": {},
   "outputs": [],
   "source": [
    "plants_final = plants_i.loc[:]"
   ]
  },
  {
   "cell_type": "code",
   "execution_count": 57,
   "metadata": {},
   "outputs": [],
   "source": [
    "# plants_final"
   ]
  },
  {
   "cell_type": "code",
   "execution_count": 58,
   "metadata": {},
   "outputs": [],
   "source": [
    "# stammdaten"
   ]
  },
  {
   "cell_type": "code",
   "execution_count": 59,
   "metadata": {},
   "outputs": [],
   "source": [
    "# cols = [0,2,3,9,10,11,12]\n",
    "drop_list = ['KraftwerkID', 'Blockname', 'Energieträger', 'Inbetriebnahme', 'KWK', 'Kraftwerksname', 'Nettoleistung', 'Status', 'Stilllegung', 'Unternehmen']\n",
    "stammdaten.drop(drop_list, axis=1, inplace=True)"
   ]
  },
  {
   "cell_type": "code",
   "execution_count": 60,
   "metadata": {},
   "outputs": [],
   "source": [
    "#stammdaten.to_csv(\"stammdaten.csv\", index=False)"
   ]
  },
  {
   "cell_type": "code",
   "execution_count": 61,
   "metadata": {},
   "outputs": [],
   "source": [
    "#plants_final.to_csv(\"plants.csv\", index=False)"
   ]
  },
  {
   "cell_type": "code",
   "execution_count": 62,
   "metadata": {},
   "outputs": [],
   "source": [
    "#blocks.to_csv(\"blocks_3.csv\", index=False)"
   ]
  },
  {
   "cell_type": "code",
   "execution_count": 63,
   "metadata": {},
   "outputs": [],
   "source": [
    "#stammdaten.to_csv(\"stammdaten_nh.csv\", index=False, header=False)\n",
    "#blocks.to_csv(\"blocks_nh.csv\", index=False, header=False)\n",
    "#plants_final.to_csv(\"plants_nh.csv\", index=False, header=False)"
   ]
  },
  {
   "cell_type": "code",
   "execution_count": null,
   "metadata": {},
   "outputs": [],
   "source": []
  }
 ],
 "metadata": {
  "kernelspec": {
   "display_name": "Python 3",
   "language": "python",
   "name": "python3"
  },
  "language_info": {
   "codemirror_mode": {
    "name": "ipython",
    "version": 3
   },
   "file_extension": ".py",
   "mimetype": "text/x-python",
   "name": "python",
   "nbconvert_exporter": "python",
   "pygments_lexer": "ipython3",
   "version": "3.6.4"
  }
 },
 "nbformat": 4,
 "nbformat_minor": 2
}
